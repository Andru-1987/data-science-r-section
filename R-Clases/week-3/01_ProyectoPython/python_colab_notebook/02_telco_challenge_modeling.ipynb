{
 "cells": [
  {
   "cell_type": "markdown",
   "id": "1350aff8",
   "metadata": {},
   "source": [
    "## MODELING AND PRE PROCESSING\n",
    "\n",
    "*Dado a todo lo investigado y conocer las relaciones que se ejercen directamente las features del dataset, podriamos usar las variables que mejor se nos ajuste, sin embargo, para seguir el mismo concepto de Quick & Dirty, vamos a hacer uso*\n",
    "\n",
    "Dividir los datos en **train / validation / test** para poder:\n",
    "\n",
    "* entrenar el modelo (`train`),\n",
    "* ajustar hiperparámetros (`validation`),\n",
    "* y evaluar el desempeño final (`test`).\n",
    "\n",
    "\n",
    "### Opciones\n",
    "\n",
    "* Si solo necesitás **train/test**, basta con un solo `train_test_split`.\n",
    "* Si vas a usar algo como **GridSearchCV o RandomizedSearchCV**, no necesitás `validation` explícito: esas clases ya hacen validación cruzada.\n",
    "* Para problemas de **churn** (clasificación con clases desbalanceadas) recomiendo **usar `stratify=y`** para que la proporción de churn/no-churn se mantenga igual en los splits.\n",
    "\n"
   ]
  },
  {
   "cell_type": "code",
   "execution_count": null,
   "id": "173845a8",
   "metadata": {},
   "outputs": [],
   "source": [
    "import sqlite3\n",
    "import pandas as pd\n",
    "import numpy as np\n",
    "\n",
    "import matplotlib.pyplot as plt\n",
    "import seaborn as sns\n",
    "import plotly.express as px\n",
    "import plotly.graph_objects as go\n",
    "\n",
    "from datetime import datetime\n",
    "import warnings\n",
    "warnings.filterwarnings(\"ignore\")\n",
    "\n",
    "\n",
    "import pandas as pd\n",
    "from sklearn.pipeline import Pipeline\n",
    "from sklearn.compose import ColumnTransformer\n",
    "from sklearn.preprocessing import OrdinalEncoder, OneHotEncoder, FunctionTransformer, StandardScaler\n",
    "\n",
    "# setting display\n",
    "pd.set_option('display.max_columns', None)\n",
    "# pd.set_option('display.max_rows', None)"
   ]
  },
  {
   "cell_type": "markdown",
   "id": "40e99df6",
   "metadata": {},
   "source": [
    "## Obtener los datos"
   ]
  },
  {
   "cell_type": "code",
   "execution_count": null,
   "id": "1afa1f14",
   "metadata": {},
   "outputs": [],
   "source": [
    "def pandas_sqlite_read(db_path, query, params=None):\n",
    "    with sqlite3.connect(db_path) as conn:\n",
    "        # Leer directamente a DataFrame\n",
    "        if params:\n",
    "            df = pd.read_sql_query(query, conn, params=params)\n",
    "        else:\n",
    "            df = pd.read_sql_query(query, conn)\n",
    "    \n",
    "    return df"
   ]
  },
  {
   "cell_type": "code",
   "execution_count": null,
   "id": "fb9c412a",
   "metadata": {},
   "outputs": [],
   "source": [
    "class ChurnDatabase:\n",
    "    \n",
    "    def __init__(self, db_path):\n",
    "        self.db_path = db_path\n",
    "        \n",
    "    def get_all_customers(self):\n",
    "        query = \"SELECT * FROM telco_customer_churn\"\n",
    "        return pandas_sqlite_read(self.db_path, query)\n",
    "    \n",
    "    def get_churn_customers(self):\n",
    "        query = \"SELECT * FROM telco_customer_churn WHERE Churn = 'Yes'\"\n",
    "        return pandas_sqlite_read(self.db_path, query)\n",
    "    \n",
    "    def get_customers_by_contract(self, contract_type):\n",
    "        query = \"SELECT * FROM telco_customer_churn WHERE Contract = ?\"\n",
    "        return pandas_sqlite_read(self.db_path, query, params=[contract_type])\n",
    "    \n",
    "    def get_high_value_customers(self, min_charges):\n",
    "        query = \"\"\"\n",
    "        SELECT customerID, gender, tenure, Contract, \n",
    "               MonthlyCharges, TotalCharges, Churn\n",
    "        FROM telco_customer_churn\n",
    "        WHERE TotalCharges > ?\n",
    "        ORDER BY TotalCharges DESC\n",
    "        \"\"\"\n",
    "        return pandas_sqlite_read(self.db_path, query, params=[min_charges])\n",
    "    \n",
    "    def get_churn_analysis_data(self):\n",
    "        \n",
    "        query = \"\"\"\n",
    "        SELECT \n",
    "            gender,\n",
    "            SeniorCitizen,\n",
    "            Partner,\n",
    "            Dependents,\n",
    "            tenure,\n",
    "            PhoneService,\n",
    "            MultipleLines,\n",
    "            InternetService,\n",
    "            OnlineSecurity,\n",
    "            OnlineBackup,\n",
    "            DeviceProtection,\n",
    "            TechSupport,\n",
    "            StreamingTV,\n",
    "            StreamingMovies,\n",
    "            Contract,\n",
    "            PaperlessBilling,\n",
    "            PaymentMethod,\n",
    "            MonthlyCharges,\n",
    "            TotalCharges,\n",
    "            Churn = \"Yes\" AS Churn,\n",
    "            -- Features derivadas\n",
    "            CASE \n",
    "                WHEN tenure <= 12 THEN 'New'\n",
    "                WHEN tenure <= 36 THEN 'Regular' \n",
    "                ELSE 'Loyal'\n",
    "            END as customer_segment,\n",
    "            \n",
    "            CASE \n",
    "                WHEN MonthlyCharges < 35 THEN 'Low'\n",
    "                WHEN MonthlyCharges < 65 THEN 'Medium'\n",
    "                ELSE 'High'\n",
    "            END as price_segment,\n",
    "            \n",
    "            -- Número de servicios adicionales\n",
    "            (CASE WHEN OnlineSecurity = 'Yes' THEN 1 ELSE 0 END +\n",
    "             CASE WHEN OnlineBackup = 'Yes' THEN 1 ELSE 0 END +\n",
    "             CASE WHEN DeviceProtection = 'Yes' THEN 1 ELSE 0 END +\n",
    "             CASE WHEN TechSupport = 'Yes' THEN 1 ELSE 0 END +\n",
    "             CASE WHEN StreamingTV = 'Yes' THEN 1 ELSE 0 END +\n",
    "             CASE WHEN StreamingMovies = 'Yes' THEN 1 ELSE 0 END) as additional_services\n",
    "             \n",
    "        FROM telco_customer_churn\n",
    "        \"\"\"\n",
    "        return pandas_sqlite_read(self.db_path, query)\n",
    "    \n",
    "    def get_churn_summary_stats(self):\n",
    "\n",
    "        query = \"\"\"\n",
    "        SELECT \n",
    "            Contract,\n",
    "            PaymentMethod,\n",
    "            COUNT(*) as total_customers,\n",
    "            SUM(CASE WHEN Churn = 'Yes' THEN 1 ELSE 0 END) as churn_customers,\n",
    "            ROUND(\n",
    "                100.0 * SUM(CASE WHEN Churn = 'Yes' THEN 1 ELSE 0 END) / COUNT(*), \n",
    "                2\n",
    "            ) as churn_rate,\n",
    "            ROUND(AVG(MonthlyCharges), 2) as avg_monthly_charges,\n",
    "            ROUND(AVG(tenure), 2) as avg_tenure\n",
    "        FROM telco_customer_churn\n",
    "        GROUP BY Contract, PaymentMethod\n",
    "        ORDER BY churn_rate DESC\n",
    "        \"\"\"\n",
    "        return pandas_sqlite_read(self.db_path, query)\n",
    "    \n",
    "    def get_dataframe_by_query(self, query:str):\n",
    "        return pandas_sqlite_read(self.db_path, query)"
   ]
  },
  {
   "cell_type": "code",
   "execution_count": null,
   "id": "8787cdec",
   "metadata": {},
   "outputs": [],
   "source": [
    "churn_objetct = ChurnDatabase(\"../database/telco_customer_churn.sqlite.db\")\n",
    "churn = churn_objetct.get_churn_analysis_data()\n",
    "\n",
    "churn[['gender', 'SeniorCitizen', 'Partner', 'Dependents', 'tenure',\n",
    "       'PhoneService', 'MultipleLines', 'InternetService', 'OnlineSecurity',\n",
    "       'OnlineBackup', 'DeviceProtection', 'TechSupport', 'StreamingTV',\n",
    "       'StreamingMovies', 'Contract', 'PaperlessBilling', 'PaymentMethod',\n",
    "       'MonthlyCharges', 'TotalCharges']][churn[\"Churn\"] == 1].sample(10).to_csv(\"test.csv\")"
   ]
  },
  {
   "cell_type": "markdown",
   "id": "0afef7bc",
   "metadata": {},
   "source": [
    "## Pipe Modeling PreProcessing"
   ]
  },
  {
   "cell_type": "code",
   "execution_count": null,
   "id": "87609b45",
   "metadata": {},
   "outputs": [],
   "source": [
    "import numpy as np\n",
    "import pandas as pd\n",
    "from sklearn.preprocessing import FunctionTransformer, OrdinalEncoder, OneHotEncoder, StandardScaler\n",
    "from sklearn.compose import ColumnTransformer\n",
    "\n",
    "# --- Función de limpieza global ---\n",
    "def clean_columns_global(df):\n",
    "    df = df.copy()\n",
    "    if \"PaymentMethod\" in df.columns:\n",
    "        df[\"PaymentMethod\"] = df[\"PaymentMethod\"].str.replace(r\" \\(automatic\\)\", \"\", regex=True)\n",
    "        \n",
    "    if \"TotalCharges\" in df.columns:\n",
    "        df[\"TotalCharges\"] = df[\"TotalCharges\"].replace(\" \", np.nan).replace(\"\", np.nan)\n",
    "        df[\"TotalCharges\"] = df[\"TotalCharges\"].astype(float)\n",
    "        df[\"TotalCharges\"] = df[\"TotalCharges\"].fillna(df[\"TotalCharges\"].median())\n",
    "    return df\n",
    "\n",
    "# --- Transformadores globales ---\n",
    "mapper_columns_bins = {\"Yes\": 1, \"No\": 0, \"Male\": 1, \"Female\": 0}\n",
    "\n",
    "def map_bins(X): \n",
    "    return X.applymap(lambda x: mapper_columns_bins.get(x, x) if isinstance(x, str) else x)\n",
    "\n",
    "def to_numeric(X):\n",
    "    if isinstance(X, np.ndarray):\n",
    "        df = pd.DataFrame(X)\n",
    "        return df.apply(pd.to_numeric, errors='coerce').fillna(0).values\n",
    "    else:\n",
    "        return X.apply(pd.to_numeric, errors='coerce').fillna(0)\n",
    "\n",
    "# --- Build preprocessor ---\n",
    "def build_preprocessor(X):\n",
    "    bin_transformer = FunctionTransformer(func=map_bins, validate=False)\n",
    "    numeric_transformer = FunctionTransformer(func=to_numeric, validate=False)\n",
    "\n",
    "    bin_cols = [\"gender\",\"Partner\",\"Dependents\",\"PhoneService\",\"PaperlessBilling\",\"Churn\"]\n",
    "    ordinal_cols = [\"customer_segment\", \"price_segment\", \"additional_services\"]\n",
    "    num_cols = [\"tenure\", \"SeniorCitizen\", \"MonthlyCharges\", \"TotalCharges\"]\n",
    "    multi_cols_for_dummies = [\n",
    "        \"MultipleLines\",\"InternetService\",\"OnlineSecurity\",\"OnlineBackup\",\n",
    "        \"DeviceProtection\",\"TechSupport\",\"StreamingTV\",\"StreamingMovies\",\n",
    "        \"Contract\",\"PaymentMethod\"\n",
    "    ]\n",
    "\n",
    "    ordinal_categories = [\n",
    "        [\"New\", \"Regular\", \"Loyal\"],  # customer_segment\n",
    "        [\"Low\", \"Medium\", \"High\"],    # price_segment\n",
    "        [0, 1, 2, 3, 4, 5, 6]        # additional_services\n",
    "    ]\n",
    "\n",
    "    ordinal_transformer = OrdinalEncoder(categories=ordinal_categories)\n",
    "    multi_transformer = OneHotEncoder(handle_unknown=\"ignore\", sparse_output=False)\n",
    "    scaling = StandardScaler()\n",
    "\n",
    "    # --- Filtrar columnas presentes ---\n",
    "    bin_cols_present = [c for c in bin_cols if c in X.columns]\n",
    "    ordinal_cols_present = [c for c in ordinal_cols if c in X.columns]\n",
    "    multi_cols_present = [c for c in multi_cols_for_dummies if c in X.columns]\n",
    "    num_cols_present = [c for c in num_cols if c in X.columns]\n",
    "\n",
    "    # --- ColumnTransformer ---\n",
    "    col_transformer = ColumnTransformer(\n",
    "        transformers=[\n",
    "            (\"bin\", bin_transformer, bin_cols_present),\n",
    "            (\"ord\", ordinal_transformer, ordinal_cols_present),\n",
    "            (\"multi\", multi_transformer, multi_cols_present),\n",
    "            (\"scale\", scaling, num_cols_present),\n",
    "            (\"to_numeric\", numeric_transformer, X.columns)\n",
    "        ],\n",
    "        remainder=\"passthrough\"\n",
    "    )\n",
    "\n",
    "    return col_transformer\n"
   ]
  },
  {
   "cell_type": "code",
   "execution_count": null,
   "id": "dbcbaaf7",
   "metadata": {},
   "outputs": [],
   "source": [
    "from imblearn.pipeline import Pipeline as ImbPipeline\n",
    "from imblearn.combine import SMOTETomek\n",
    "from sklearn.model_selection import StratifiedKFold, cross_validate\n",
    "\n",
    "def train_single_model( X, y, balance=True, with_model = True, model= None):\n",
    "\n",
    "    steps = []\n",
    "    \n",
    "    # --- Preprocessor ---\n",
    "    preprocessor = build_preprocessor(X)\n",
    "    steps.append((\"preprocessor\", preprocessor))\n",
    "    \n",
    "    # --- Balanceo ---\n",
    "    if balance:\n",
    "        steps.append((\"balance\", SMOTETomek(random_state=42)))\n",
    "    \n",
    "    if with_model:\n",
    "        # --- Modelo ---\n",
    "        steps.append((\"model\", model))\n",
    "        \n",
    "    # --- Pipeline ---\n",
    "    pipe = ImbPipeline(steps=steps)\n",
    "    \n",
    "    # --- Cross-validation ---\n",
    "    skf = StratifiedKFold(n_splits=20, shuffle=True, random_state=42)\n",
    "    \n",
    "    scores = cross_validate(\n",
    "        pipe,\n",
    "        X, y,\n",
    "        cv=skf,\n",
    "        scoring=['accuracy', 'f1', 'roc_auc'],\n",
    "        return_train_score=True,\n",
    "        n_jobs=-1\n",
    "    )\n",
    "    \n",
    "    # --- Calcular medias ---\n",
    "    mean_scores = {key: np.mean(val) for key, val in scores.items()}\n",
    "    # print(pd.DataFrame(mean_scores).T)\n",
    "    \n",
    "\n",
    "    print(\"Media de scores CV \")\n",
    "    for key, val in mean_scores.items():\n",
    "        print(f\"{key}: {val:.4f}\")\n",
    "    \n",
    "    print(\"--------------------------------------\")\n",
    "\n",
    "    pipe.fit(X, y)\n",
    "    \n",
    "    return pipe\n"
   ]
  },
  {
   "cell_type": "code",
   "execution_count": null,
   "id": "135378d0",
   "metadata": {},
   "outputs": [],
   "source": [
    "def reconstruct_transformed_df(pipe, df: pd.DataFrame, target=\"Churn\"):\n",
    "    \"\"\"\n",
    "    Reconstruye un DataFrame transformado desde un pipeline entrenado,\n",
    "    preservando nombres de columnas para cada tipo de transformador.\n",
    "    \"\"\"\n",
    "    X = df.drop(columns=[target])\n",
    "    \n",
    "    preprocessor = pipe.named_steps[\"preprocessor\"]\n",
    "    \n",
    "    transformed = preprocessor.transform(X)\n",
    "    # Si es sparse (por OneHot), convertir a array\n",
    "    if hasattr(transformed, \"toarray\"):\n",
    "        transformed = transformed.toarray()\n",
    "    \n",
    "    # --- Nombres de columnas ---\n",
    "    all_features = []\n",
    "\n",
    "    # Binarias\n",
    "    bin_cols = [c for c in [\"gender\",\"Partner\",\"Dependents\",\"PhoneService\",\"PaperlessBilling\"] if c in X.columns]\n",
    "    all_features += bin_cols\n",
    "\n",
    "    # Ordinal\n",
    "    ordinal_cols = [c for c in [\"customer_segment\", \"price_segment\", \"additional_services\"] if c in X.columns]\n",
    "    all_features += ordinal_cols\n",
    "\n",
    "    # One-hot\n",
    "    multi_cols = [c for c in [\n",
    "        \"MultipleLines\",\"InternetService\",\"OnlineSecurity\",\"OnlineBackup\",\n",
    "        \"DeviceProtection\",\"TechSupport\",\"StreamingTV\",\"StreamingMovies\",\n",
    "        \"Contract\",\"PaymentMethod\"] if c in X.columns]\n",
    "\n",
    "    if \"multi\" in preprocessor.named_transformers_:\n",
    "        onehot_cols = preprocessor.named_transformers_[\"multi\"].get_feature_names_out(multi_cols)\n",
    "        all_features += list(onehot_cols)\n",
    "\n",
    "    # Numéricas\n",
    "    num_cols = [c for c in [\"tenure\", \"SeniorCitizen\", \"MonthlyCharges\", \"TotalCharges\"] if c in X.columns]\n",
    "    all_features += num_cols\n",
    "\n",
    "    # Si el array tiene más columnas que nombres, generar nombres genéricos\n",
    "    if transformed.shape[1] > len(all_features):\n",
    "        extra_cols = transformed.shape[1] - len(all_features)\n",
    "        all_features += [f\"extra_{i}\" for i in range(extra_cols)]\n",
    "\n",
    "    return pd.DataFrame(transformed, columns=all_features)\n"
   ]
  },
  {
   "cell_type": "code",
   "execution_count": null,
   "id": "5b2dd6f4",
   "metadata": {},
   "outputs": [],
   "source": [
    "# --- Función para evaluar modelos entrenados ---\n",
    "from sklearn.metrics import accuracy_score, precision_score, recall_score, f1_score, roc_auc_score, average_precision_score\n",
    "\n",
    "\n",
    "def evaluate_models(trained_models, X, y):\n",
    "    results = {}\n",
    "    \n",
    "    for name, model in trained_models.items():\n",
    "        result = eval_model(model, X, y)\n",
    "        results[name] = result\n",
    "    return pd.DataFrame(results).T\n",
    "\n",
    "def eval_model(model, X, y):\n",
    "    \n",
    "    y_pred = model.predict(X)\n",
    "    y_proba = model.predict_proba(X)[:,1]\n",
    "    \n",
    "    return {\n",
    "        \"accuracy\": accuracy_score(y, y_pred),\n",
    "        \"precision\": precision_score(y, y_pred),\n",
    "        \"recall\": recall_score(y, y_pred),\n",
    "        \"f1\": f1_score(y, y_pred),\n",
    "        \"roc_auc\": roc_auc_score(y, y_proba),\n",
    "        \"pr_auc\": average_precision_score(y, y_proba)\n",
    "    }"
   ]
  },
  {
   "cell_type": "markdown",
   "id": "80267a5f",
   "metadata": {},
   "source": [
    "## Split Train Validation Test"
   ]
  },
  {
   "cell_type": "markdown",
   "id": "22fc2da7",
   "metadata": {},
   "source": [
    "* `SMOTE` → genera nuevas muestras **sintéticas** para la clase minoritaria.\n",
    "* `TomekLinks` → elimina ejemplos de la clase mayoritaria que están muy cerca de la minoritaria (ruido/solapamiento).\n",
    "* `SMOTETomek` → combina ambos pasos en una sola estrategia."
   ]
  },
  {
   "cell_type": "code",
   "execution_count": null,
   "id": "0a83bc48",
   "metadata": {},
   "outputs": [],
   "source": [
    "from sklearn.model_selection import train_test_split\n",
    "# Data split\n",
    "\n",
    "churn = clean_columns_global(churn)\n",
    "\n",
    "# Supongamos que ya tenés X (features) y y (target)\n",
    "X = churn.drop(\"Churn\", axis=1)\n",
    "y = churn[\"Churn\"]\n",
    "\n",
    "# Primero separamos train+val vs test (20% para test)\n",
    "X_train_val, X_test, y_train_val, y_test = train_test_split(\n",
    "    X, y, test_size=0.15, random_state=42, stratify=y\n",
    ")\n",
    "\n",
    "#  Luego de train+val, volvemos a separar: train (60%), val (20%)\n",
    "X_train, X_val, y_train, y_val = train_test_split(\n",
    "    X_train_val, y_train_val, test_size=0.18, random_state=42, stratify=y_train_val\n",
    ")\n",
    "# (0.25 de 0.8 = 0.20 → o sea: 60% train, 20% val, 20% test)\n",
    "\n",
    "print(\"Train:\", X_train.shape, y_train.shape)\n",
    "print(\"Validation:\", X_val.shape, y_val.shape)\n",
    "print(\"Test:\", X_test.shape, y_test.shape)\n",
    "\n",
    "print(X_train.columns)\n",
    "# print(X_train.dtypes)\n"
   ]
  },
  {
   "cell_type": "code",
   "execution_count": null,
   "id": "eec9d98c",
   "metadata": {},
   "outputs": [],
   "source": [
    "from sklearn.linear_model import LogisticRegression\n",
    "from sklearn.ensemble import RandomForestClassifier\n",
    "from lightgbm import LGBMClassifier\n",
    "\n",
    "from sklearn.model_selection import StratifiedKFold, cross_validate\n",
    "from sklearn.metrics import make_scorer, f1_score, recall_score, precision_score, roc_auc_score, average_precision_score\n",
    "from imblearn.pipeline import Pipeline\n",
    "from imblearn.combine import SMOTETomek\n",
    "from sklearn.svm import SVC\n",
    "from sklearn.tree import DecisionTreeClassifier\n",
    "\n",
    "# Modelos baseline\n",
    "models = {\n",
    "    \"Logistic Regression\": LogisticRegression(\n",
    "        max_iter=1000,\n",
    "        class_weight=\"balanced\",   # ajusta peso de clases\n",
    "        penalty=\"l2\",              # regularización L2 para evitar overfitting\n",
    "        C=0.1,                     # regularización más fuerte (menor C = más regularización)\n",
    "        solver=\"newton-cg\",             # bueno para datasets pequeños/medianos\n",
    "        random_state=42\n",
    "    ),\n",
    "    \"Random Forest\": RandomForestClassifier(\n",
    "        n_estimators=300,\n",
    "        max_depth=10,\n",
    "        min_samples_split=10,\n",
    "        min_samples_leaf=4,\n",
    "        max_features='sqrt',\n",
    "        class_weight='balanced_subsample',\n",
    "        bootstrap=True,\n",
    "        random_state=42\n",
    "    ),\n",
    "    \"LightGBM\": LGBMClassifier(\n",
    "        random_state=42,\n",
    "        class_weight=\"balanced\",\n",
    "        n_estimators=100\n",
    "    ),\n",
    "    \"Decision Tree\": DecisionTreeClassifier(\n",
    "        criterion=\"gini\",           # o \"entropy\"\n",
    "        max_depth=6,                # limitar profundidad para evitar overfitting\n",
    "        min_samples_split=20,       # mínimo de muestras para dividir un nodo\n",
    "        min_samples_leaf=10,        # mínimo de muestras en una hoja\n",
    "        class_weight=\"balanced\",    # ajusta pesos para clases desbalanceadas\n",
    "        random_state=42\n",
    "    ),\n",
    "    \"SVM\": SVC(\n",
    "        kernel=\"rbf\",              # \"linear\" si querés algo más interpretable\n",
    "        C=1.0,                     # regularización (menor C = más regularización)\n",
    "        gamma=\"scale\",             # controla influencia de cada punto\n",
    "        class_weight=\"balanced\",   # ajusta pesos por clases desbalanceadas\n",
    "        probability=True,          # para obtener probabilidades y usar ROC/AUC\n",
    "        random_state=42\n",
    "    )\n",
    "}\n"
   ]
  },
  {
   "cell_type": "code",
   "execution_count": 11,
   "id": "d15efc93",
   "metadata": {},
   "outputs": [
    {
     "name": "stdout",
     "output_type": "stream",
     "text": [
      "[LightGBM] [Info] Number of positive: 3169, number of negative: 3169\n",
      "[LightGBM] [Info] Auto-choosing row-wise multi-threading, the overhead of testing was 1.629535 seconds.\n",
      "You can set `force_row_wise=true` to remove the overhead.\n",
      "And if memory is not enough, you can set `force_col_wise=true`.\n",
      "[LightGBM] [Info] Total Bins 8791\n",
      "[LightGBM] [Info] Number of data points in the train set: 6338, number of used features: 48\n",
      "[LightGBM] [Info] [binary:BoostFromScore]: pavg=0.500000 -> initscore=0.000000\n",
      "[LightGBM] [Info] Number of positive: 3137, number of negative: 3137\n",
      "[LightGBM] [Info] Auto-choosing row-wise multi-threading, the overhead of testing was 0.604616 seconds.\n",
      "You can set `force_row_wise=true` to remove the overhead.\n",
      "And if memory is not enough, you can set `force_col_wise=true`.\n",
      "[LightGBM] [Info] Total Bins 8809\n",
      "[LightGBM] [Info] Number of data points in the train set: 6274, number of used features: 48\n",
      "[LightGBM] [Info] [binary:BoostFromScore]: pavg=0.500000 -> initscore=0.000000\n",
      "[LightGBM] [Info] Number of positive: 3144, number of negative: 3144\n",
      "[LightGBM] [Info] Auto-choosing row-wise multi-threading, the overhead of testing was 0.644469 seconds.\n",
      "You can set `force_row_wise=true` to remove the overhead.\n",
      "And if memory is not enough, you can set `force_col_wise=true`.\n",
      "[LightGBM] [Info] Total Bins 8801\n",
      "[LightGBM] [Info] Number of data points in the train set: 6288, number of used features: 48\n",
      "[LightGBM] [Info] [binary:BoostFromScore]: pavg=0.500000 -> initscore=0.000000\n",
      "[LightGBM] [Info] Number of positive: 3186, number of negative: 3186\n",
      "[LightGBM] [Info] Auto-choosing row-wise multi-threading, the overhead of testing was 1.110100 seconds.\n",
      "You can set `force_row_wise=true` to remove the overhead.\n",
      "And if memory is not enough, you can set `force_col_wise=true`.\n",
      "[LightGBM] [Info] Total Bins 8812\n",
      "[LightGBM] [Info] Number of data points in the train set: 6372, number of used features: 48\n",
      "[LightGBM] [Info] [binary:BoostFromScore]: pavg=0.500000 -> initscore=0.000000\n",
      "[LightGBM] [Info] Number of positive: 3158, number of negative: 3158\n",
      "[LightGBM] [Info] Auto-choosing row-wise multi-threading, the overhead of testing was 1.193152 seconds.\n",
      "You can set `force_row_wise=true` to remove the overhead.\n",
      "And if memory is not enough, you can set `force_col_wise=true`.\n",
      "[LightGBM] [Info] Total Bins 8783\n",
      "[LightGBM] [Info] Number of data points in the train set: 6316, number of used features: 48\n",
      "[LightGBM] [Info] [binary:BoostFromScore]: pavg=0.500000 -> initscore=0.000000\n",
      "[LightGBM] [Info] Number of positive: 3162, number of negative: 3162\n",
      "[LightGBM] [Info] Number of positive: 3157, number of negative: 3157\n",
      "[LightGBM] [Info] Auto-choosing row-wise multi-threading, the overhead of testing was 0.766634 seconds.\n",
      "You can set `force_row_wise=true` to remove the overhead.\n",
      "And if memory is not enough, you can set `force_col_wise=true`.\n",
      "[LightGBM] [Info] Total Bins 8813\n",
      "[LightGBM] [Info] Number of data points in the train set: 6324, number of used features: 48\n",
      "[LightGBM] [Info] Number of positive: 3192, number of negative: 3192\n",
      "[LightGBM] [Info] [binary:BoostFromScore]: pavg=0.500000 -> initscore=0.000000\n",
      "[LightGBM] [Info] Auto-choosing row-wise multi-threading, the overhead of testing was 1.188392 seconds.\n",
      "You can set `force_row_wise=true` to remove the overhead.\n",
      "And if memory is not enough, you can set `force_col_wise=true`.\n",
      "[LightGBM] [Info] Total Bins 8988\n",
      "[LightGBM] [Info] Number of data points in the train set: 6314, number of used features: 48\n",
      "[LightGBM] [Info] [binary:BoostFromScore]: pavg=0.500000 -> initscore=0.000000\n",
      "[LightGBM] [Info] Auto-choosing row-wise multi-threading, the overhead of testing was 1.557670 seconds.\n",
      "You can set `force_row_wise=true` to remove the overhead.\n",
      "And if memory is not enough, you can set `force_col_wise=true`.\n",
      "[LightGBM] [Info] Total Bins 8820\n",
      "[LightGBM] [Info] Number of data points in the train set: 6384, number of used features: 48\n",
      "[LightGBM] [Info] [binary:BoostFromScore]: pavg=0.500000 -> initscore=0.000000\n",
      "Media de scores CV \n",
      "fit_time: 373.6471\n",
      "score_time: 0.1375\n",
      "test_accuracy: 0.7934\n",
      "train_accuracy: 0.8885\n",
      "test_f1: 0.5835\n",
      "train_f1: 0.7847\n",
      "test_roc_auc: 0.8408\n",
      "train_roc_auc: 0.9444\n",
      "--------------------------------------\n",
      "[LightGBM] [Info] Number of positive: 3322, number of negative: 3322\n",
      "[LightGBM] [Info] Auto-choosing col-wise multi-threading, the overhead of testing was 0.001025 seconds.\n",
      "You can set `force_col_wise=true` to remove the overhead.\n",
      "[LightGBM] [Info] Total Bins 8832\n",
      "[LightGBM] [Info] Number of data points in the train set: 6644, number of used features: 48\n",
      "[LightGBM] [Info] [binary:BoostFromScore]: pavg=0.500000 -> initscore=0.000000\n",
      "Media de scores CV \n",
      "fit_time: 0.5936\n",
      "score_time: 0.0416\n",
      "test_accuracy: 0.7673\n",
      "train_accuracy: 0.7811\n",
      "test_f1: 0.6025\n",
      "train_f1: 0.6259\n",
      "test_roc_auc: 0.8167\n",
      "train_roc_auc: 0.8437\n",
      "--------------------------------------\n",
      "Media de scores CV \n",
      "fit_time: 40.0236\n",
      "score_time: 0.3414\n",
      "test_accuracy: 0.6742\n",
      "train_accuracy: 0.6739\n",
      "test_f1: 0.4969\n",
      "train_f1: 0.4978\n",
      "test_roc_auc: 0.7294\n",
      "train_roc_auc: 0.7293\n",
      "--------------------------------------\n"
     ]
    }
   ],
   "source": [
    "models_pipes = {\n",
    "    name:train_single_model(X=X_train, y=y_train, model=model)\n",
    "    for name,model in models.items()\n",
    "}"
   ]
  },
  {
   "cell_type": "code",
   "execution_count": 12,
   "id": "bb3d6907",
   "metadata": {},
   "outputs": [
    {
     "data": {
      "text/html": [
       "<div>\n",
       "<style scoped>\n",
       "    .dataframe tbody tr th:only-of-type {\n",
       "        vertical-align: middle;\n",
       "    }\n",
       "\n",
       "    .dataframe tbody tr th {\n",
       "        vertical-align: top;\n",
       "    }\n",
       "\n",
       "    .dataframe thead th {\n",
       "        text-align: right;\n",
       "    }\n",
       "</style>\n",
       "<table border=\"1\" class=\"dataframe\">\n",
       "  <thead>\n",
       "    <tr style=\"text-align: right;\">\n",
       "      <th></th>\n",
       "      <th>accuracy</th>\n",
       "      <th>precision</th>\n",
       "      <th>recall</th>\n",
       "      <th>f1</th>\n",
       "      <th>roc_auc</th>\n",
       "      <th>pr_auc</th>\n",
       "    </tr>\n",
       "  </thead>\n",
       "  <tbody>\n",
       "    <tr>\n",
       "      <th>Logistic Regression</th>\n",
       "      <td>0.759940</td>\n",
       "      <td>0.532231</td>\n",
       "      <td>0.789805</td>\n",
       "      <td>0.635926</td>\n",
       "      <td>0.846983</td>\n",
       "      <td>0.662762</td>\n",
       "    </tr>\n",
       "    <tr>\n",
       "      <th>Random Forest</th>\n",
       "      <td>0.831774</td>\n",
       "      <td>0.671986</td>\n",
       "      <td>0.715544</td>\n",
       "      <td>0.693081</td>\n",
       "      <td>0.894554</td>\n",
       "      <td>0.742235</td>\n",
       "    </tr>\n",
       "    <tr>\n",
       "      <th>LightGBM</th>\n",
       "      <td>0.867858</td>\n",
       "      <td>0.768506</td>\n",
       "      <td>0.718691</td>\n",
       "      <td>0.742764</td>\n",
       "      <td>0.920809</td>\n",
       "      <td>0.813226</td>\n",
       "    </tr>\n",
       "    <tr>\n",
       "      <th>Decision Tree</th>\n",
       "      <td>0.787003</td>\n",
       "      <td>0.587906</td>\n",
       "      <td>0.660793</td>\n",
       "      <td>0.622222</td>\n",
       "      <td>0.834215</td>\n",
       "      <td>0.583580</td>\n",
       "    </tr>\n",
       "    <tr>\n",
       "      <th>SVM</th>\n",
       "      <td>0.677247</td>\n",
       "      <td>0.424349</td>\n",
       "      <td>0.605412</td>\n",
       "      <td>0.498963</td>\n",
       "      <td>0.730316</td>\n",
       "      <td>0.533418</td>\n",
       "    </tr>\n",
       "  </tbody>\n",
       "</table>\n",
       "</div>"
      ],
      "text/plain": [
       "                     accuracy  precision    recall        f1   roc_auc  \\\n",
       "Logistic Regression  0.759940   0.532231  0.789805  0.635926  0.846983   \n",
       "Random Forest        0.831774   0.671986  0.715544  0.693081  0.894554   \n",
       "LightGBM             0.867858   0.768506  0.718691  0.742764  0.920809   \n",
       "Decision Tree        0.787003   0.587906  0.660793  0.622222  0.834215   \n",
       "SVM                  0.677247   0.424349  0.605412  0.498963  0.730316   \n",
       "\n",
       "                       pr_auc  \n",
       "Logistic Regression  0.662762  \n",
       "Random Forest        0.742235  \n",
       "LightGBM             0.813226  \n",
       "Decision Tree        0.583580  \n",
       "SVM                  0.533418  "
      ]
     },
     "execution_count": 12,
     "metadata": {},
     "output_type": "execute_result"
    }
   ],
   "source": [
    "validacion = evaluate_models(models_pipes, X_train_val, y_train_val)\n",
    "validacion"
   ]
  },
  {
   "cell_type": "code",
   "execution_count": 13,
   "id": "105e6235",
   "metadata": {},
   "outputs": [
    {
     "data": {
      "text/html": [
       "<div>\n",
       "<style scoped>\n",
       "    .dataframe tbody tr th:only-of-type {\n",
       "        vertical-align: middle;\n",
       "    }\n",
       "\n",
       "    .dataframe tbody tr th {\n",
       "        vertical-align: top;\n",
       "    }\n",
       "\n",
       "    .dataframe thead th {\n",
       "        text-align: right;\n",
       "    }\n",
       "</style>\n",
       "<table border=\"1\" class=\"dataframe\">\n",
       "  <thead>\n",
       "    <tr style=\"text-align: right;\">\n",
       "      <th></th>\n",
       "      <th>accuracy</th>\n",
       "      <th>precision</th>\n",
       "      <th>recall</th>\n",
       "      <th>f1</th>\n",
       "      <th>roc_auc</th>\n",
       "      <th>pr_auc</th>\n",
       "    </tr>\n",
       "  </thead>\n",
       "  <tbody>\n",
       "    <tr>\n",
       "      <th>Logistic Regression</th>\n",
       "      <td>0.749290</td>\n",
       "      <td>0.517401</td>\n",
       "      <td>0.796429</td>\n",
       "      <td>0.627286</td>\n",
       "      <td>0.850660</td>\n",
       "      <td>0.645664</td>\n",
       "    </tr>\n",
       "    <tr>\n",
       "      <th>Random Forest</th>\n",
       "      <td>0.780511</td>\n",
       "      <td>0.577419</td>\n",
       "      <td>0.639286</td>\n",
       "      <td>0.606780</td>\n",
       "      <td>0.849336</td>\n",
       "      <td>0.655206</td>\n",
       "    </tr>\n",
       "    <tr>\n",
       "      <th>LightGBM</th>\n",
       "      <td>0.790918</td>\n",
       "      <td>0.616601</td>\n",
       "      <td>0.557143</td>\n",
       "      <td>0.585366</td>\n",
       "      <td>0.839943</td>\n",
       "      <td>0.638035</td>\n",
       "    </tr>\n",
       "    <tr>\n",
       "      <th>Decision Tree</th>\n",
       "      <td>0.760643</td>\n",
       "      <td>0.539130</td>\n",
       "      <td>0.664286</td>\n",
       "      <td>0.595200</td>\n",
       "      <td>0.801894</td>\n",
       "      <td>0.520358</td>\n",
       "    </tr>\n",
       "    <tr>\n",
       "      <th>SVM</th>\n",
       "      <td>0.695364</td>\n",
       "      <td>0.446154</td>\n",
       "      <td>0.621429</td>\n",
       "      <td>0.519403</td>\n",
       "      <td>0.757628</td>\n",
       "      <td>0.589074</td>\n",
       "    </tr>\n",
       "  </tbody>\n",
       "</table>\n",
       "</div>"
      ],
      "text/plain": [
       "                     accuracy  precision    recall        f1   roc_auc  \\\n",
       "Logistic Regression  0.749290   0.517401  0.796429  0.627286  0.850660   \n",
       "Random Forest        0.780511   0.577419  0.639286  0.606780  0.849336   \n",
       "LightGBM             0.790918   0.616601  0.557143  0.585366  0.839943   \n",
       "Decision Tree        0.760643   0.539130  0.664286  0.595200  0.801894   \n",
       "SVM                  0.695364   0.446154  0.621429  0.519403  0.757628   \n",
       "\n",
       "                       pr_auc  \n",
       "Logistic Regression  0.645664  \n",
       "Random Forest        0.655206  \n",
       "LightGBM             0.638035  \n",
       "Decision Tree        0.520358  \n",
       "SVM                  0.589074  "
      ]
     },
     "execution_count": 13,
     "metadata": {},
     "output_type": "execute_result"
    }
   ],
   "source": [
    "test = evaluate_models(models_pipes, X_test, y_test)\n",
    "test"
   ]
  },
  {
   "cell_type": "code",
   "execution_count": 14,
   "id": "9c04f53b",
   "metadata": {},
   "outputs": [],
   "source": [
    "def evaluate_metric_differences(eval_df: pd.DataFrame, test_df: pd.DataFrame):\n",
    "    diff_df = abs(eval_df.set_index(eval_df.index) - test_df.set_index(test_df.index))\n",
    "    diff_df = diff_df.rename(columns=lambda c: f\"{c}_diff\")\n",
    "    return diff_df\n"
   ]
  },
  {
   "cell_type": "code",
   "execution_count": 15,
   "id": "dd6026b7",
   "metadata": {},
   "outputs": [
    {
     "data": {
      "text/html": [
       "<div>\n",
       "<style scoped>\n",
       "    .dataframe tbody tr th:only-of-type {\n",
       "        vertical-align: middle;\n",
       "    }\n",
       "\n",
       "    .dataframe tbody tr th {\n",
       "        vertical-align: top;\n",
       "    }\n",
       "\n",
       "    .dataframe thead th {\n",
       "        text-align: right;\n",
       "    }\n",
       "</style>\n",
       "<table border=\"1\" class=\"dataframe\">\n",
       "  <thead>\n",
       "    <tr style=\"text-align: right;\">\n",
       "      <th></th>\n",
       "      <th>accuracy_diff</th>\n",
       "      <th>precision_diff</th>\n",
       "      <th>recall_diff</th>\n",
       "      <th>f1_diff</th>\n",
       "      <th>roc_auc_diff</th>\n",
       "      <th>pr_auc_diff</th>\n",
       "    </tr>\n",
       "  </thead>\n",
       "  <tbody>\n",
       "    <tr>\n",
       "      <th>Logistic Regression</th>\n",
       "      <td>0.010649</td>\n",
       "      <td>0.014829</td>\n",
       "      <td>0.006624</td>\n",
       "      <td>0.008641</td>\n",
       "      <td>0.003677</td>\n",
       "      <td>0.017099</td>\n",
       "    </tr>\n",
       "    <tr>\n",
       "      <th>Random Forest</th>\n",
       "      <td>0.051263</td>\n",
       "      <td>0.094566</td>\n",
       "      <td>0.076259</td>\n",
       "      <td>0.086302</td>\n",
       "      <td>0.045218</td>\n",
       "      <td>0.087029</td>\n",
       "    </tr>\n",
       "    <tr>\n",
       "      <th>LightGBM</th>\n",
       "      <td>0.076941</td>\n",
       "      <td>0.151905</td>\n",
       "      <td>0.161548</td>\n",
       "      <td>0.157398</td>\n",
       "      <td>0.080866</td>\n",
       "      <td>0.175191</td>\n",
       "    </tr>\n",
       "    <tr>\n",
       "      <th>Decision Tree</th>\n",
       "      <td>0.026360</td>\n",
       "      <td>0.048776</td>\n",
       "      <td>0.003493</td>\n",
       "      <td>0.027022</td>\n",
       "      <td>0.032321</td>\n",
       "      <td>0.063221</td>\n",
       "    </tr>\n",
       "    <tr>\n",
       "      <th>SVM</th>\n",
       "      <td>0.018117</td>\n",
       "      <td>0.021804</td>\n",
       "      <td>0.016016</td>\n",
       "      <td>0.020440</td>\n",
       "      <td>0.027312</td>\n",
       "      <td>0.055656</td>\n",
       "    </tr>\n",
       "  </tbody>\n",
       "</table>\n",
       "</div>"
      ],
      "text/plain": [
       "                     accuracy_diff  precision_diff  recall_diff   f1_diff  \\\n",
       "Logistic Regression       0.010649        0.014829     0.006624  0.008641   \n",
       "Random Forest             0.051263        0.094566     0.076259  0.086302   \n",
       "LightGBM                  0.076941        0.151905     0.161548  0.157398   \n",
       "Decision Tree             0.026360        0.048776     0.003493  0.027022   \n",
       "SVM                       0.018117        0.021804     0.016016  0.020440   \n",
       "\n",
       "                     roc_auc_diff  pr_auc_diff  \n",
       "Logistic Regression      0.003677     0.017099  \n",
       "Random Forest            0.045218     0.087029  \n",
       "LightGBM                 0.080866     0.175191  \n",
       "Decision Tree            0.032321     0.063221  \n",
       "SVM                      0.027312     0.055656  "
      ]
     },
     "execution_count": 15,
     "metadata": {},
     "output_type": "execute_result"
    }
   ],
   "source": [
    "evaluate_metric_differences(validacion,test)"
   ]
  },
  {
   "cell_type": "code",
   "execution_count": 16,
   "id": "f30225a6",
   "metadata": {},
   "outputs": [],
   "source": [
    "import plotly.express as px\n",
    "import pandas as pd\n",
    "\n",
    "def plot_metric_differences(eval_df: pd.DataFrame, test_df: pd.DataFrame):\n",
    "    # Calculamos diferencias\n",
    "    diff_df = evaluate_metric_differences(eval_df,test_df)\n",
    "    \n",
    "    # Convertimos a formato largo para Plotly\n",
    "    diff_long = diff_df.reset_index().melt(id_vars='index', var_name='Metric', value_name='Difference')\n",
    "    \n",
    "    # Creamos gráfico de barras\n",
    "    fig = px.bar(diff_long, x='index', y='Difference', color='Metric', barmode='group',\n",
    "                 title=\"Diferencias entre métricas de evaluación y test\",\n",
    "                 labels={'index':'Modelo'})\n",
    "    \n",
    "    fig.show()\n",
    "    \n",
    "\n",
    "    fig = px.imshow(\n",
    "        diff_df,\n",
    "        text_auto=True,\n",
    "        color_continuous_scale='RdYlGn_r',  # rojo = mayor diferencia, verde = menor\n",
    "        aspect=\"auto\",\n",
    "        labels=dict(x=\"Métrica\", y=\"Modelo\", color=\"Diferencia\"),\n",
    "        title=\"Heatmap de diferencias entre métricas de evaluación y test\"\n",
    "    )\n",
    "\n",
    "    fig.show()\n"
   ]
  },
  {
   "cell_type": "code",
   "execution_count": 17,
   "id": "b94ad945",
   "metadata": {},
   "outputs": [
    {
     "data": {
      "application/vnd.plotly.v1+json": {
       "config": {
        "plotlyServerURL": "https://plot.ly"
       },
       "data": [
        {
         "alignmentgroup": "True",
         "hovertemplate": "Metric=accuracy_diff<br>Modelo=%{x}<br>Difference=%{y}<extra></extra>",
         "legendgroup": "accuracy_diff",
         "marker": {
          "color": "#636efa",
          "pattern": {
           "shape": ""
          }
         },
         "name": "accuracy_diff",
         "offsetgroup": "accuracy_diff",
         "orientation": "v",
         "showlegend": true,
         "textposition": "auto",
         "type": "bar",
         "x": [
          "Logistic Regression",
          "Random Forest",
          "LightGBM",
          "Decision Tree",
          "SVM"
         ],
         "xaxis": "x",
         "y": {
          "bdata": "AG3JSVzPhT+w3L6QLT+qPwC+BdBhsrM/QB3J9wf+mj8A8WldWY2SPw==",
          "dtype": "f8"
         },
         "yaxis": "y"
        },
        {
         "alignmentgroup": "True",
         "hovertemplate": "Metric=precision_diff<br>Modelo=%{x}<br>Difference=%{y}<extra></extra>",
         "legendgroup": "precision_diff",
         "marker": {
          "color": "#EF553B",
          "pattern": {
           "shape": ""
          }
         },
         "name": "precision_diff",
         "offsetgroup": "precision_diff",
         "orientation": "v",
         "showlegend": true,
         "textposition": "auto",
         "type": "bar",
         "x": [
          "Logistic Regression",
          "Random Forest",
          "LightGBM",
          "Decision Tree",
          "SVM"
         ],
         "xaxis": "x",
         "y": {
          "bdata": "AF00jNRejj/gx0fwgTW4PxxEz7qhccM/wAn+NBr5qD/gHBRF6lOWPw==",
          "dtype": "f8"
         },
         "yaxis": "y"
        },
        {
         "alignmentgroup": "True",
         "hovertemplate": "Metric=recall_diff<br>Modelo=%{x}<br>Difference=%{y}<extra></extra>",
         "legendgroup": "recall_diff",
         "marker": {
          "color": "#00cc96",
          "pattern": {
           "shape": ""
          }
         },
         "name": "recall_diff",
         "offsetgroup": "recall_diff",
         "orientation": "v",
         "showlegend": true,
         "textposition": "auto",
         "type": "bar",
         "x": [
          "Logistic Regression",
          "Random Forest",
          "LightGBM",
          "Decision Tree",
          "SVM"
         ],
         "xaxis": "x",
         "y": {
          "bdata": "gGaC6Wkhez+ADbXlr4WzP9x/gAycrcQ/AB8+uNqcbD/AGmvkl2aQPw==",
          "dtype": "f8"
         },
         "yaxis": "y"
        },
        {
         "alignmentgroup": "True",
         "hovertemplate": "Metric=f1_diff<br>Modelo=%{x}<br>Difference=%{y}<extra></extra>",
         "legendgroup": "f1_diff",
         "marker": {
          "color": "#ab63fa",
          "pattern": {
           "shape": ""
          }
         },
         "name": "f1_diff",
         "offsetgroup": "f1_diff",
         "orientation": "v",
         "showlegend": true,
         "textposition": "auto",
         "type": "bar",
         "x": [
          "Logistic Regression",
          "Random Forest",
          "LightGBM",
          "Decision Tree",
          "SVM"
         ],
         "xaxis": "x",
         "y": {
          "bdata": "wL1IIx2ygT9oum+K3he2PygUWkKhJcQ/wLjWorarmz9AZmxKT+6UPw==",
          "dtype": "f8"
         },
         "yaxis": "y"
        },
        {
         "alignmentgroup": "True",
         "hovertemplate": "Metric=roc_auc_diff<br>Modelo=%{x}<br>Difference=%{y}<extra></extra>",
         "legendgroup": "roc_auc_diff",
         "marker": {
          "color": "#FFA15A",
          "pattern": {
           "shape": ""
          }
         },
         "name": "roc_auc_diff",
         "offsetgroup": "roc_auc_diff",
         "orientation": "v",
         "showlegend": true,
         "textposition": "auto",
         "type": "bar",
         "x": [
          "Logistic Regression",
          "Random Forest",
          "LightGBM",
          "Decision Tree",
          "SVM"
         ],
         "xaxis": "x",
         "y": {
          "bdata": "ACGsCQwfbj8QqG2JyCanPziLrGCfs7Q/wKQgXWqMoD8gyl1QrPebPw==",
          "dtype": "f8"
         },
         "yaxis": "y"
        },
        {
         "alignmentgroup": "True",
         "hovertemplate": "Metric=pr_auc_diff<br>Modelo=%{x}<br>Difference=%{y}<extra></extra>",
         "legendgroup": "pr_auc_diff",
         "marker": {
          "color": "#19d3f3",
          "pattern": {
           "shape": ""
          }
         },
         "name": "pr_auc_diff",
         "offsetgroup": "pr_auc_diff",
         "orientation": "v",
         "showlegend": true,
         "textposition": "auto",
         "type": "bar",
         "x": [
          "Logistic Regression",
          "Random Forest",
          "LightGBM",
          "Decision Tree",
          "SVM"
         ],
         "xaxis": "x",
         "y": {
          "bdata": "wIMyjkyCkT/IC37piEe2P/zJZC2nbMY/kPbFLEgvsD/wEqqV736sPw==",
          "dtype": "f8"
         },
         "yaxis": "y"
        }
       ],
       "layout": {
        "barmode": "group",
        "legend": {
         "title": {
          "text": "Metric"
         },
         "tracegroupgap": 0
        },
        "template": {
         "data": {
          "bar": [
           {
            "error_x": {
             "color": "#2a3f5f"
            },
            "error_y": {
             "color": "#2a3f5f"
            },
            "marker": {
             "line": {
              "color": "#E5ECF6",
              "width": 0.5
             },
             "pattern": {
              "fillmode": "overlay",
              "size": 10,
              "solidity": 0.2
             }
            },
            "type": "bar"
           }
          ],
          "barpolar": [
           {
            "marker": {
             "line": {
              "color": "#E5ECF6",
              "width": 0.5
             },
             "pattern": {
              "fillmode": "overlay",
              "size": 10,
              "solidity": 0.2
             }
            },
            "type": "barpolar"
           }
          ],
          "carpet": [
           {
            "aaxis": {
             "endlinecolor": "#2a3f5f",
             "gridcolor": "white",
             "linecolor": "white",
             "minorgridcolor": "white",
             "startlinecolor": "#2a3f5f"
            },
            "baxis": {
             "endlinecolor": "#2a3f5f",
             "gridcolor": "white",
             "linecolor": "white",
             "minorgridcolor": "white",
             "startlinecolor": "#2a3f5f"
            },
            "type": "carpet"
           }
          ],
          "choropleth": [
           {
            "colorbar": {
             "outlinewidth": 0,
             "ticks": ""
            },
            "type": "choropleth"
           }
          ],
          "contour": [
           {
            "colorbar": {
             "outlinewidth": 0,
             "ticks": ""
            },
            "colorscale": [
             [
              0,
              "#0d0887"
             ],
             [
              0.1111111111111111,
              "#46039f"
             ],
             [
              0.2222222222222222,
              "#7201a8"
             ],
             [
              0.3333333333333333,
              "#9c179e"
             ],
             [
              0.4444444444444444,
              "#bd3786"
             ],
             [
              0.5555555555555556,
              "#d8576b"
             ],
             [
              0.6666666666666666,
              "#ed7953"
             ],
             [
              0.7777777777777778,
              "#fb9f3a"
             ],
             [
              0.8888888888888888,
              "#fdca26"
             ],
             [
              1,
              "#f0f921"
             ]
            ],
            "type": "contour"
           }
          ],
          "contourcarpet": [
           {
            "colorbar": {
             "outlinewidth": 0,
             "ticks": ""
            },
            "type": "contourcarpet"
           }
          ],
          "heatmap": [
           {
            "colorbar": {
             "outlinewidth": 0,
             "ticks": ""
            },
            "colorscale": [
             [
              0,
              "#0d0887"
             ],
             [
              0.1111111111111111,
              "#46039f"
             ],
             [
              0.2222222222222222,
              "#7201a8"
             ],
             [
              0.3333333333333333,
              "#9c179e"
             ],
             [
              0.4444444444444444,
              "#bd3786"
             ],
             [
              0.5555555555555556,
              "#d8576b"
             ],
             [
              0.6666666666666666,
              "#ed7953"
             ],
             [
              0.7777777777777778,
              "#fb9f3a"
             ],
             [
              0.8888888888888888,
              "#fdca26"
             ],
             [
              1,
              "#f0f921"
             ]
            ],
            "type": "heatmap"
           }
          ],
          "histogram": [
           {
            "marker": {
             "pattern": {
              "fillmode": "overlay",
              "size": 10,
              "solidity": 0.2
             }
            },
            "type": "histogram"
           }
          ],
          "histogram2d": [
           {
            "colorbar": {
             "outlinewidth": 0,
             "ticks": ""
            },
            "colorscale": [
             [
              0,
              "#0d0887"
             ],
             [
              0.1111111111111111,
              "#46039f"
             ],
             [
              0.2222222222222222,
              "#7201a8"
             ],
             [
              0.3333333333333333,
              "#9c179e"
             ],
             [
              0.4444444444444444,
              "#bd3786"
             ],
             [
              0.5555555555555556,
              "#d8576b"
             ],
             [
              0.6666666666666666,
              "#ed7953"
             ],
             [
              0.7777777777777778,
              "#fb9f3a"
             ],
             [
              0.8888888888888888,
              "#fdca26"
             ],
             [
              1,
              "#f0f921"
             ]
            ],
            "type": "histogram2d"
           }
          ],
          "histogram2dcontour": [
           {
            "colorbar": {
             "outlinewidth": 0,
             "ticks": ""
            },
            "colorscale": [
             [
              0,
              "#0d0887"
             ],
             [
              0.1111111111111111,
              "#46039f"
             ],
             [
              0.2222222222222222,
              "#7201a8"
             ],
             [
              0.3333333333333333,
              "#9c179e"
             ],
             [
              0.4444444444444444,
              "#bd3786"
             ],
             [
              0.5555555555555556,
              "#d8576b"
             ],
             [
              0.6666666666666666,
              "#ed7953"
             ],
             [
              0.7777777777777778,
              "#fb9f3a"
             ],
             [
              0.8888888888888888,
              "#fdca26"
             ],
             [
              1,
              "#f0f921"
             ]
            ],
            "type": "histogram2dcontour"
           }
          ],
          "mesh3d": [
           {
            "colorbar": {
             "outlinewidth": 0,
             "ticks": ""
            },
            "type": "mesh3d"
           }
          ],
          "parcoords": [
           {
            "line": {
             "colorbar": {
              "outlinewidth": 0,
              "ticks": ""
             }
            },
            "type": "parcoords"
           }
          ],
          "pie": [
           {
            "automargin": true,
            "type": "pie"
           }
          ],
          "scatter": [
           {
            "fillpattern": {
             "fillmode": "overlay",
             "size": 10,
             "solidity": 0.2
            },
            "type": "scatter"
           }
          ],
          "scatter3d": [
           {
            "line": {
             "colorbar": {
              "outlinewidth": 0,
              "ticks": ""
             }
            },
            "marker": {
             "colorbar": {
              "outlinewidth": 0,
              "ticks": ""
             }
            },
            "type": "scatter3d"
           }
          ],
          "scattercarpet": [
           {
            "marker": {
             "colorbar": {
              "outlinewidth": 0,
              "ticks": ""
             }
            },
            "type": "scattercarpet"
           }
          ],
          "scattergeo": [
           {
            "marker": {
             "colorbar": {
              "outlinewidth": 0,
              "ticks": ""
             }
            },
            "type": "scattergeo"
           }
          ],
          "scattergl": [
           {
            "marker": {
             "colorbar": {
              "outlinewidth": 0,
              "ticks": ""
             }
            },
            "type": "scattergl"
           }
          ],
          "scattermap": [
           {
            "marker": {
             "colorbar": {
              "outlinewidth": 0,
              "ticks": ""
             }
            },
            "type": "scattermap"
           }
          ],
          "scattermapbox": [
           {
            "marker": {
             "colorbar": {
              "outlinewidth": 0,
              "ticks": ""
             }
            },
            "type": "scattermapbox"
           }
          ],
          "scatterpolar": [
           {
            "marker": {
             "colorbar": {
              "outlinewidth": 0,
              "ticks": ""
             }
            },
            "type": "scatterpolar"
           }
          ],
          "scatterpolargl": [
           {
            "marker": {
             "colorbar": {
              "outlinewidth": 0,
              "ticks": ""
             }
            },
            "type": "scatterpolargl"
           }
          ],
          "scatterternary": [
           {
            "marker": {
             "colorbar": {
              "outlinewidth": 0,
              "ticks": ""
             }
            },
            "type": "scatterternary"
           }
          ],
          "surface": [
           {
            "colorbar": {
             "outlinewidth": 0,
             "ticks": ""
            },
            "colorscale": [
             [
              0,
              "#0d0887"
             ],
             [
              0.1111111111111111,
              "#46039f"
             ],
             [
              0.2222222222222222,
              "#7201a8"
             ],
             [
              0.3333333333333333,
              "#9c179e"
             ],
             [
              0.4444444444444444,
              "#bd3786"
             ],
             [
              0.5555555555555556,
              "#d8576b"
             ],
             [
              0.6666666666666666,
              "#ed7953"
             ],
             [
              0.7777777777777778,
              "#fb9f3a"
             ],
             [
              0.8888888888888888,
              "#fdca26"
             ],
             [
              1,
              "#f0f921"
             ]
            ],
            "type": "surface"
           }
          ],
          "table": [
           {
            "cells": {
             "fill": {
              "color": "#EBF0F8"
             },
             "line": {
              "color": "white"
             }
            },
            "header": {
             "fill": {
              "color": "#C8D4E3"
             },
             "line": {
              "color": "white"
             }
            },
            "type": "table"
           }
          ]
         },
         "layout": {
          "annotationdefaults": {
           "arrowcolor": "#2a3f5f",
           "arrowhead": 0,
           "arrowwidth": 1
          },
          "autotypenumbers": "strict",
          "coloraxis": {
           "colorbar": {
            "outlinewidth": 0,
            "ticks": ""
           }
          },
          "colorscale": {
           "diverging": [
            [
             0,
             "#8e0152"
            ],
            [
             0.1,
             "#c51b7d"
            ],
            [
             0.2,
             "#de77ae"
            ],
            [
             0.3,
             "#f1b6da"
            ],
            [
             0.4,
             "#fde0ef"
            ],
            [
             0.5,
             "#f7f7f7"
            ],
            [
             0.6,
             "#e6f5d0"
            ],
            [
             0.7,
             "#b8e186"
            ],
            [
             0.8,
             "#7fbc41"
            ],
            [
             0.9,
             "#4d9221"
            ],
            [
             1,
             "#276419"
            ]
           ],
           "sequential": [
            [
             0,
             "#0d0887"
            ],
            [
             0.1111111111111111,
             "#46039f"
            ],
            [
             0.2222222222222222,
             "#7201a8"
            ],
            [
             0.3333333333333333,
             "#9c179e"
            ],
            [
             0.4444444444444444,
             "#bd3786"
            ],
            [
             0.5555555555555556,
             "#d8576b"
            ],
            [
             0.6666666666666666,
             "#ed7953"
            ],
            [
             0.7777777777777778,
             "#fb9f3a"
            ],
            [
             0.8888888888888888,
             "#fdca26"
            ],
            [
             1,
             "#f0f921"
            ]
           ],
           "sequentialminus": [
            [
             0,
             "#0d0887"
            ],
            [
             0.1111111111111111,
             "#46039f"
            ],
            [
             0.2222222222222222,
             "#7201a8"
            ],
            [
             0.3333333333333333,
             "#9c179e"
            ],
            [
             0.4444444444444444,
             "#bd3786"
            ],
            [
             0.5555555555555556,
             "#d8576b"
            ],
            [
             0.6666666666666666,
             "#ed7953"
            ],
            [
             0.7777777777777778,
             "#fb9f3a"
            ],
            [
             0.8888888888888888,
             "#fdca26"
            ],
            [
             1,
             "#f0f921"
            ]
           ]
          },
          "colorway": [
           "#636efa",
           "#EF553B",
           "#00cc96",
           "#ab63fa",
           "#FFA15A",
           "#19d3f3",
           "#FF6692",
           "#B6E880",
           "#FF97FF",
           "#FECB52"
          ],
          "font": {
           "color": "#2a3f5f"
          },
          "geo": {
           "bgcolor": "white",
           "lakecolor": "white",
           "landcolor": "#E5ECF6",
           "showlakes": true,
           "showland": true,
           "subunitcolor": "white"
          },
          "hoverlabel": {
           "align": "left"
          },
          "hovermode": "closest",
          "mapbox": {
           "style": "light"
          },
          "paper_bgcolor": "white",
          "plot_bgcolor": "#E5ECF6",
          "polar": {
           "angularaxis": {
            "gridcolor": "white",
            "linecolor": "white",
            "ticks": ""
           },
           "bgcolor": "#E5ECF6",
           "radialaxis": {
            "gridcolor": "white",
            "linecolor": "white",
            "ticks": ""
           }
          },
          "scene": {
           "xaxis": {
            "backgroundcolor": "#E5ECF6",
            "gridcolor": "white",
            "gridwidth": 2,
            "linecolor": "white",
            "showbackground": true,
            "ticks": "",
            "zerolinecolor": "white"
           },
           "yaxis": {
            "backgroundcolor": "#E5ECF6",
            "gridcolor": "white",
            "gridwidth": 2,
            "linecolor": "white",
            "showbackground": true,
            "ticks": "",
            "zerolinecolor": "white"
           },
           "zaxis": {
            "backgroundcolor": "#E5ECF6",
            "gridcolor": "white",
            "gridwidth": 2,
            "linecolor": "white",
            "showbackground": true,
            "ticks": "",
            "zerolinecolor": "white"
           }
          },
          "shapedefaults": {
           "line": {
            "color": "#2a3f5f"
           }
          },
          "ternary": {
           "aaxis": {
            "gridcolor": "white",
            "linecolor": "white",
            "ticks": ""
           },
           "baxis": {
            "gridcolor": "white",
            "linecolor": "white",
            "ticks": ""
           },
           "bgcolor": "#E5ECF6",
           "caxis": {
            "gridcolor": "white",
            "linecolor": "white",
            "ticks": ""
           }
          },
          "title": {
           "x": 0.05
          },
          "xaxis": {
           "automargin": true,
           "gridcolor": "white",
           "linecolor": "white",
           "ticks": "",
           "title": {
            "standoff": 15
           },
           "zerolinecolor": "white",
           "zerolinewidth": 2
          },
          "yaxis": {
           "automargin": true,
           "gridcolor": "white",
           "linecolor": "white",
           "ticks": "",
           "title": {
            "standoff": 15
           },
           "zerolinecolor": "white",
           "zerolinewidth": 2
          }
         }
        },
        "title": {
         "text": "Diferencias entre métricas de evaluación y test"
        },
        "xaxis": {
         "anchor": "y",
         "domain": [
          0,
          1
         ],
         "title": {
          "text": "Modelo"
         }
        },
        "yaxis": {
         "anchor": "x",
         "domain": [
          0,
          1
         ],
         "title": {
          "text": "Difference"
         }
        }
       }
      }
     },
     "metadata": {},
     "output_type": "display_data"
    },
    {
     "data": {
      "application/vnd.plotly.v1+json": {
       "config": {
        "plotlyServerURL": "https://plot.ly"
       },
       "data": [
        {
         "coloraxis": "coloraxis",
         "hovertemplate": "Métrica: %{x}<br>Modelo: %{y}<br>Diferencia: %{z}<extra></extra>",
         "name": "0",
         "texttemplate": "%{z}",
         "type": "heatmap",
         "x": [
          "accuracy_diff",
          "precision_diff",
          "recall_diff",
          "f1_diff",
          "roc_auc_diff",
          "pr_auc_diff"
         ],
         "xaxis": "x",
         "y": [
          "Logistic Regression",
          "Random Forest",
          "LightGBM",
          "Decision Tree",
          "SVM"
         ],
         "yaxis": "y",
         "z": {
          "bdata": "AG3JSVzPhT8AXTSM1F6OP4BmgulpIXs/wL1IIx2ygT8AIawJDB9uP8CDMo5MgpE/sNy+kC0/qj/gx0fwgTW4P4ANteWvhbM/aLpvit4Xtj8QqG2JyCanP8gLfumIR7Y/AL4F0GGysz8cRM+6oXHDP9x/gAycrcQ/KBRaQqElxD84i6xgn7O0P/zJZC2nbMY/QB3J9wf+mj/ACf40GvmoPwAfPrjanGw/wLjWorarmz/ApCBdaoygP5D2xSxIL7A/APFpXVmNkj/gHBRF6lOWP8Aaa+SXZpA/QGZsSk/ulD8gyl1QrPebP/ASqpXvfqw/",
          "dtype": "f8",
          "shape": "5, 6"
         }
        }
       ],
       "layout": {
        "coloraxis": {
         "colorbar": {
          "title": {
           "text": "Diferencia"
          }
         },
         "colorscale": [
          [
           0,
           "rgb(0,104,55)"
          ],
          [
           0.1,
           "rgb(26,152,80)"
          ],
          [
           0.2,
           "rgb(102,189,99)"
          ],
          [
           0.3,
           "rgb(166,217,106)"
          ],
          [
           0.4,
           "rgb(217,239,139)"
          ],
          [
           0.5,
           "rgb(255,255,191)"
          ],
          [
           0.6,
           "rgb(254,224,139)"
          ],
          [
           0.7,
           "rgb(253,174,97)"
          ],
          [
           0.8,
           "rgb(244,109,67)"
          ],
          [
           0.9,
           "rgb(215,48,39)"
          ],
          [
           1,
           "rgb(165,0,38)"
          ]
         ]
        },
        "template": {
         "data": {
          "bar": [
           {
            "error_x": {
             "color": "#2a3f5f"
            },
            "error_y": {
             "color": "#2a3f5f"
            },
            "marker": {
             "line": {
              "color": "#E5ECF6",
              "width": 0.5
             },
             "pattern": {
              "fillmode": "overlay",
              "size": 10,
              "solidity": 0.2
             }
            },
            "type": "bar"
           }
          ],
          "barpolar": [
           {
            "marker": {
             "line": {
              "color": "#E5ECF6",
              "width": 0.5
             },
             "pattern": {
              "fillmode": "overlay",
              "size": 10,
              "solidity": 0.2
             }
            },
            "type": "barpolar"
           }
          ],
          "carpet": [
           {
            "aaxis": {
             "endlinecolor": "#2a3f5f",
             "gridcolor": "white",
             "linecolor": "white",
             "minorgridcolor": "white",
             "startlinecolor": "#2a3f5f"
            },
            "baxis": {
             "endlinecolor": "#2a3f5f",
             "gridcolor": "white",
             "linecolor": "white",
             "minorgridcolor": "white",
             "startlinecolor": "#2a3f5f"
            },
            "type": "carpet"
           }
          ],
          "choropleth": [
           {
            "colorbar": {
             "outlinewidth": 0,
             "ticks": ""
            },
            "type": "choropleth"
           }
          ],
          "contour": [
           {
            "colorbar": {
             "outlinewidth": 0,
             "ticks": ""
            },
            "colorscale": [
             [
              0,
              "#0d0887"
             ],
             [
              0.1111111111111111,
              "#46039f"
             ],
             [
              0.2222222222222222,
              "#7201a8"
             ],
             [
              0.3333333333333333,
              "#9c179e"
             ],
             [
              0.4444444444444444,
              "#bd3786"
             ],
             [
              0.5555555555555556,
              "#d8576b"
             ],
             [
              0.6666666666666666,
              "#ed7953"
             ],
             [
              0.7777777777777778,
              "#fb9f3a"
             ],
             [
              0.8888888888888888,
              "#fdca26"
             ],
             [
              1,
              "#f0f921"
             ]
            ],
            "type": "contour"
           }
          ],
          "contourcarpet": [
           {
            "colorbar": {
             "outlinewidth": 0,
             "ticks": ""
            },
            "type": "contourcarpet"
           }
          ],
          "heatmap": [
           {
            "colorbar": {
             "outlinewidth": 0,
             "ticks": ""
            },
            "colorscale": [
             [
              0,
              "#0d0887"
             ],
             [
              0.1111111111111111,
              "#46039f"
             ],
             [
              0.2222222222222222,
              "#7201a8"
             ],
             [
              0.3333333333333333,
              "#9c179e"
             ],
             [
              0.4444444444444444,
              "#bd3786"
             ],
             [
              0.5555555555555556,
              "#d8576b"
             ],
             [
              0.6666666666666666,
              "#ed7953"
             ],
             [
              0.7777777777777778,
              "#fb9f3a"
             ],
             [
              0.8888888888888888,
              "#fdca26"
             ],
             [
              1,
              "#f0f921"
             ]
            ],
            "type": "heatmap"
           }
          ],
          "histogram": [
           {
            "marker": {
             "pattern": {
              "fillmode": "overlay",
              "size": 10,
              "solidity": 0.2
             }
            },
            "type": "histogram"
           }
          ],
          "histogram2d": [
           {
            "colorbar": {
             "outlinewidth": 0,
             "ticks": ""
            },
            "colorscale": [
             [
              0,
              "#0d0887"
             ],
             [
              0.1111111111111111,
              "#46039f"
             ],
             [
              0.2222222222222222,
              "#7201a8"
             ],
             [
              0.3333333333333333,
              "#9c179e"
             ],
             [
              0.4444444444444444,
              "#bd3786"
             ],
             [
              0.5555555555555556,
              "#d8576b"
             ],
             [
              0.6666666666666666,
              "#ed7953"
             ],
             [
              0.7777777777777778,
              "#fb9f3a"
             ],
             [
              0.8888888888888888,
              "#fdca26"
             ],
             [
              1,
              "#f0f921"
             ]
            ],
            "type": "histogram2d"
           }
          ],
          "histogram2dcontour": [
           {
            "colorbar": {
             "outlinewidth": 0,
             "ticks": ""
            },
            "colorscale": [
             [
              0,
              "#0d0887"
             ],
             [
              0.1111111111111111,
              "#46039f"
             ],
             [
              0.2222222222222222,
              "#7201a8"
             ],
             [
              0.3333333333333333,
              "#9c179e"
             ],
             [
              0.4444444444444444,
              "#bd3786"
             ],
             [
              0.5555555555555556,
              "#d8576b"
             ],
             [
              0.6666666666666666,
              "#ed7953"
             ],
             [
              0.7777777777777778,
              "#fb9f3a"
             ],
             [
              0.8888888888888888,
              "#fdca26"
             ],
             [
              1,
              "#f0f921"
             ]
            ],
            "type": "histogram2dcontour"
           }
          ],
          "mesh3d": [
           {
            "colorbar": {
             "outlinewidth": 0,
             "ticks": ""
            },
            "type": "mesh3d"
           }
          ],
          "parcoords": [
           {
            "line": {
             "colorbar": {
              "outlinewidth": 0,
              "ticks": ""
             }
            },
            "type": "parcoords"
           }
          ],
          "pie": [
           {
            "automargin": true,
            "type": "pie"
           }
          ],
          "scatter": [
           {
            "fillpattern": {
             "fillmode": "overlay",
             "size": 10,
             "solidity": 0.2
            },
            "type": "scatter"
           }
          ],
          "scatter3d": [
           {
            "line": {
             "colorbar": {
              "outlinewidth": 0,
              "ticks": ""
             }
            },
            "marker": {
             "colorbar": {
              "outlinewidth": 0,
              "ticks": ""
             }
            },
            "type": "scatter3d"
           }
          ],
          "scattercarpet": [
           {
            "marker": {
             "colorbar": {
              "outlinewidth": 0,
              "ticks": ""
             }
            },
            "type": "scattercarpet"
           }
          ],
          "scattergeo": [
           {
            "marker": {
             "colorbar": {
              "outlinewidth": 0,
              "ticks": ""
             }
            },
            "type": "scattergeo"
           }
          ],
          "scattergl": [
           {
            "marker": {
             "colorbar": {
              "outlinewidth": 0,
              "ticks": ""
             }
            },
            "type": "scattergl"
           }
          ],
          "scattermap": [
           {
            "marker": {
             "colorbar": {
              "outlinewidth": 0,
              "ticks": ""
             }
            },
            "type": "scattermap"
           }
          ],
          "scattermapbox": [
           {
            "marker": {
             "colorbar": {
              "outlinewidth": 0,
              "ticks": ""
             }
            },
            "type": "scattermapbox"
           }
          ],
          "scatterpolar": [
           {
            "marker": {
             "colorbar": {
              "outlinewidth": 0,
              "ticks": ""
             }
            },
            "type": "scatterpolar"
           }
          ],
          "scatterpolargl": [
           {
            "marker": {
             "colorbar": {
              "outlinewidth": 0,
              "ticks": ""
             }
            },
            "type": "scatterpolargl"
           }
          ],
          "scatterternary": [
           {
            "marker": {
             "colorbar": {
              "outlinewidth": 0,
              "ticks": ""
             }
            },
            "type": "scatterternary"
           }
          ],
          "surface": [
           {
            "colorbar": {
             "outlinewidth": 0,
             "ticks": ""
            },
            "colorscale": [
             [
              0,
              "#0d0887"
             ],
             [
              0.1111111111111111,
              "#46039f"
             ],
             [
              0.2222222222222222,
              "#7201a8"
             ],
             [
              0.3333333333333333,
              "#9c179e"
             ],
             [
              0.4444444444444444,
              "#bd3786"
             ],
             [
              0.5555555555555556,
              "#d8576b"
             ],
             [
              0.6666666666666666,
              "#ed7953"
             ],
             [
              0.7777777777777778,
              "#fb9f3a"
             ],
             [
              0.8888888888888888,
              "#fdca26"
             ],
             [
              1,
              "#f0f921"
             ]
            ],
            "type": "surface"
           }
          ],
          "table": [
           {
            "cells": {
             "fill": {
              "color": "#EBF0F8"
             },
             "line": {
              "color": "white"
             }
            },
            "header": {
             "fill": {
              "color": "#C8D4E3"
             },
             "line": {
              "color": "white"
             }
            },
            "type": "table"
           }
          ]
         },
         "layout": {
          "annotationdefaults": {
           "arrowcolor": "#2a3f5f",
           "arrowhead": 0,
           "arrowwidth": 1
          },
          "autotypenumbers": "strict",
          "coloraxis": {
           "colorbar": {
            "outlinewidth": 0,
            "ticks": ""
           }
          },
          "colorscale": {
           "diverging": [
            [
             0,
             "#8e0152"
            ],
            [
             0.1,
             "#c51b7d"
            ],
            [
             0.2,
             "#de77ae"
            ],
            [
             0.3,
             "#f1b6da"
            ],
            [
             0.4,
             "#fde0ef"
            ],
            [
             0.5,
             "#f7f7f7"
            ],
            [
             0.6,
             "#e6f5d0"
            ],
            [
             0.7,
             "#b8e186"
            ],
            [
             0.8,
             "#7fbc41"
            ],
            [
             0.9,
             "#4d9221"
            ],
            [
             1,
             "#276419"
            ]
           ],
           "sequential": [
            [
             0,
             "#0d0887"
            ],
            [
             0.1111111111111111,
             "#46039f"
            ],
            [
             0.2222222222222222,
             "#7201a8"
            ],
            [
             0.3333333333333333,
             "#9c179e"
            ],
            [
             0.4444444444444444,
             "#bd3786"
            ],
            [
             0.5555555555555556,
             "#d8576b"
            ],
            [
             0.6666666666666666,
             "#ed7953"
            ],
            [
             0.7777777777777778,
             "#fb9f3a"
            ],
            [
             0.8888888888888888,
             "#fdca26"
            ],
            [
             1,
             "#f0f921"
            ]
           ],
           "sequentialminus": [
            [
             0,
             "#0d0887"
            ],
            [
             0.1111111111111111,
             "#46039f"
            ],
            [
             0.2222222222222222,
             "#7201a8"
            ],
            [
             0.3333333333333333,
             "#9c179e"
            ],
            [
             0.4444444444444444,
             "#bd3786"
            ],
            [
             0.5555555555555556,
             "#d8576b"
            ],
            [
             0.6666666666666666,
             "#ed7953"
            ],
            [
             0.7777777777777778,
             "#fb9f3a"
            ],
            [
             0.8888888888888888,
             "#fdca26"
            ],
            [
             1,
             "#f0f921"
            ]
           ]
          },
          "colorway": [
           "#636efa",
           "#EF553B",
           "#00cc96",
           "#ab63fa",
           "#FFA15A",
           "#19d3f3",
           "#FF6692",
           "#B6E880",
           "#FF97FF",
           "#FECB52"
          ],
          "font": {
           "color": "#2a3f5f"
          },
          "geo": {
           "bgcolor": "white",
           "lakecolor": "white",
           "landcolor": "#E5ECF6",
           "showlakes": true,
           "showland": true,
           "subunitcolor": "white"
          },
          "hoverlabel": {
           "align": "left"
          },
          "hovermode": "closest",
          "mapbox": {
           "style": "light"
          },
          "paper_bgcolor": "white",
          "plot_bgcolor": "#E5ECF6",
          "polar": {
           "angularaxis": {
            "gridcolor": "white",
            "linecolor": "white",
            "ticks": ""
           },
           "bgcolor": "#E5ECF6",
           "radialaxis": {
            "gridcolor": "white",
            "linecolor": "white",
            "ticks": ""
           }
          },
          "scene": {
           "xaxis": {
            "backgroundcolor": "#E5ECF6",
            "gridcolor": "white",
            "gridwidth": 2,
            "linecolor": "white",
            "showbackground": true,
            "ticks": "",
            "zerolinecolor": "white"
           },
           "yaxis": {
            "backgroundcolor": "#E5ECF6",
            "gridcolor": "white",
            "gridwidth": 2,
            "linecolor": "white",
            "showbackground": true,
            "ticks": "",
            "zerolinecolor": "white"
           },
           "zaxis": {
            "backgroundcolor": "#E5ECF6",
            "gridcolor": "white",
            "gridwidth": 2,
            "linecolor": "white",
            "showbackground": true,
            "ticks": "",
            "zerolinecolor": "white"
           }
          },
          "shapedefaults": {
           "line": {
            "color": "#2a3f5f"
           }
          },
          "ternary": {
           "aaxis": {
            "gridcolor": "white",
            "linecolor": "white",
            "ticks": ""
           },
           "baxis": {
            "gridcolor": "white",
            "linecolor": "white",
            "ticks": ""
           },
           "bgcolor": "#E5ECF6",
           "caxis": {
            "gridcolor": "white",
            "linecolor": "white",
            "ticks": ""
           }
          },
          "title": {
           "x": 0.05
          },
          "xaxis": {
           "automargin": true,
           "gridcolor": "white",
           "linecolor": "white",
           "ticks": "",
           "title": {
            "standoff": 15
           },
           "zerolinecolor": "white",
           "zerolinewidth": 2
          },
          "yaxis": {
           "automargin": true,
           "gridcolor": "white",
           "linecolor": "white",
           "ticks": "",
           "title": {
            "standoff": 15
           },
           "zerolinecolor": "white",
           "zerolinewidth": 2
          }
         }
        },
        "title": {
         "text": "Heatmap de diferencias entre métricas de evaluación y test"
        },
        "xaxis": {
         "anchor": "y",
         "domain": [
          0,
          1
         ],
         "title": {
          "text": "Métrica"
         }
        },
        "yaxis": {
         "anchor": "x",
         "autorange": "reversed",
         "domain": [
          0,
          1
         ],
         "title": {
          "text": "Modelo"
         }
        }
       }
      }
     },
     "metadata": {},
     "output_type": "display_data"
    }
   ],
   "source": [
    "plot_metric_differences(validacion,test)"
   ]
  },
  {
   "cell_type": "markdown",
   "id": "7a60f864",
   "metadata": {},
   "source": [
    "## Metricas\n"
   ]
  },
  {
   "cell_type": "code",
   "execution_count": 18,
   "id": "d9a8dde1",
   "metadata": {},
   "outputs": [],
   "source": [
    "import plotly.graph_objects as go\n",
    "from sklearn.metrics import confusion_matrix, roc_curve, auc\n",
    "import numpy as np\n",
    "\n",
    "def plot_model_comparison(trained_models, X_val, y_val, X_test, y_test):\n",
    "    \"\"\"\n",
    "    Genera un subplot con:\n",
    "      - Curvas ROC para validation y test de cada modelo\n",
    "      - Matriz de confusión para validation y test de cada modelo\n",
    "\n",
    "    Args:\n",
    "        trained_models (dict): Diccionario {nombre_modelo: modelo_entrenado}\n",
    "        X_val, y_val: Dataset de validación\n",
    "        X_test, y_test: Dataset de test\n",
    "    \"\"\"\n",
    "    from plotly.subplots import make_subplots\n",
    "    \n",
    "    n_models = len(trained_models)\n",
    "\n",
    "    subplot_titles = [title for name in trained_models.keys() for title in \n",
    "                  [f\"{name} ROC Val\", f\"{name} ROC Test\", f\"{name} CM Val\", f\"{name} CM Test\"]]\n",
    "\n",
    "\n",
    "    fig = make_subplots(\n",
    "        rows=n_models, cols=4,\n",
    "        subplot_titles= subplot_titles,\n",
    "        horizontal_spacing=0.1,\n",
    "        vertical_spacing=0.15\n",
    "    )\n",
    "\n",
    "    row = 1\n",
    "    for model_name, model in trained_models.items():\n",
    "        # --- Curvas ROC ---\n",
    "        for col, (X, y, label) in enumerate([(X_val, y_val, 'Val'), (X_test, y_test, 'Test')], start=1):\n",
    "            y_proba = model.predict_proba(X)[:, 1]\n",
    "            fpr, tpr, _ = roc_curve(y, y_proba)\n",
    "            roc_auc = auc(fpr, tpr)\n",
    "            fig.add_trace(\n",
    "                go.Scatter(x=fpr, y=tpr, mode='lines', name=f\"{model_name} {label} (AUC={roc_auc:.2f})\"),\n",
    "                row=row, col=col\n",
    "            )\n",
    "            fig.update_xaxes(title_text=\"FPR\", row=row, col=col)\n",
    "            fig.update_yaxes(title_text=\"TPR\", row=row, col=col)\n",
    "\n",
    "        # --- Matrices de Confusión ---\n",
    "        for col, (X, y, label) in enumerate([(X_val, y_val, 'Val'), (X_test, y_test, 'Test')], start=3):\n",
    "            y_pred = model.predict(X)\n",
    "            cm = confusion_matrix(y, y_pred)\n",
    "            fig.add_trace(\n",
    "                go.Heatmap(\n",
    "                    z=cm,\n",
    "                    x=[f\"Pred {c}\" for c in range(cm.shape[1])],\n",
    "                    y=[f\"True {c}\" for c in range(cm.shape[0])],\n",
    "                    showscale=False,\n",
    "                    colorscale='Blues',\n",
    "                    text=cm,\n",
    "                    texttemplate=\"%{text}\"\n",
    "                ),\n",
    "                row=row, col=col\n",
    "            )\n",
    "\n",
    "        row += 1\n",
    "\n",
    "    fig.update_layout(height=300*n_models, width=1400, title_text=\"Comparación de Modelos: ROC y Matriz de Confusión\")\n",
    "    fig.show()\n"
   ]
  },
  {
   "cell_type": "code",
   "execution_count": 19,
   "id": "443a1cb4",
   "metadata": {},
   "outputs": [
    {
     "data": {
      "application/vnd.plotly.v1+json": {
       "config": {
        "plotlyServerURL": "https://plot.ly"
       },
       "data": [
        {
         "mode": "lines",
         "name": "Logistic Regression Val (AUC=0.83)",
         "type": "scatter",
         "x": {
          "bdata": "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",
          "dtype": "f8"
         },
         "xaxis": "x",
         "y": {
          "bdata": "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",
          "dtype": "f8"
         },
         "yaxis": "y"
        },
        {
         "mode": "lines",
         "name": "Logistic Regression Test (AUC=0.85)",
         "type": "scatter",
         "x": {
          "bdata": "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",
          "dtype": "f8"
         },
         "xaxis": "x2",
         "y": {
          "bdata": "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",
          "dtype": "f8"
         },
         "yaxis": "y2"
        },
        {
         "colorscale": [
          [
           0,
           "rgb(247,251,255)"
          ],
          [
           0.125,
           "rgb(222,235,247)"
          ],
          [
           0.25,
           "rgb(198,219,239)"
          ],
          [
           0.375,
           "rgb(158,202,225)"
          ],
          [
           0.5,
           "rgb(107,174,214)"
          ],
          [
           0.625,
           "rgb(66,146,198)"
          ],
          [
           0.75,
           "rgb(33,113,181)"
          ],
          [
           0.875,
           "rgb(8,81,156)"
          ],
          [
           1,
           "rgb(8,48,107)"
          ]
         ],
         "showscale": false,
         "text": {
          "bdata": "VwLBAEQA2gA=",
          "dtype": "i2",
          "shape": "2, 2"
         },
         "texttemplate": "%{text}",
         "type": "heatmap",
         "x": [
          "Pred 0",
          "Pred 1"
         ],
         "xaxis": "x3",
         "y": [
          "True 0",
          "True 1"
         ],
         "yaxis": "y3",
         "z": {
          "bdata": "VwLBAEQA2gA=",
          "dtype": "i2",
          "shape": "2, 2"
         }
        },
        {
         "colorscale": [
          [
           0,
           "rgb(247,251,255)"
          ],
          [
           0.125,
           "rgb(222,235,247)"
          ],
          [
           0.25,
           "rgb(198,219,239)"
          ],
          [
           0.375,
           "rgb(158,202,225)"
          ],
          [
           0.5,
           "rgb(107,174,214)"
          ],
          [
           0.625,
           "rgb(66,146,198)"
          ],
          [
           0.75,
           "rgb(33,113,181)"
          ],
          [
           0.875,
           "rgb(8,81,156)"
          ],
          [
           1,
           "rgb(8,48,107)"
          ]
         ],
         "showscale": false,
         "text": {
          "bdata": "OQLQADkA3wA=",
          "dtype": "i2",
          "shape": "2, 2"
         },
         "texttemplate": "%{text}",
         "type": "heatmap",
         "x": [
          "Pred 0",
          "Pred 1"
         ],
         "xaxis": "x4",
         "y": [
          "True 0",
          "True 1"
         ],
         "yaxis": "y4",
         "z": {
          "bdata": "OQLQADkA3wA=",
          "dtype": "i2",
          "shape": "2, 2"
         }
        },
        {
         "mode": "lines",
         "name": "Random Forest Val (AUC=0.83)",
         "type": "scatter",
         "x": {
          "bdata": "AAAAAAAAAAAAAAAAAAAAAFu/UqDWr1Q/W79SoNavVD9bv1Kg1q9kP1u/UqDWr2Q/CB988MEHbz8IH3zwwQdvP1u/UqDWr3Q/W79SoNavdD8xb2dIzNt5PzFvZ0jM23k/CB988MEHfz8IH3zwwQd/P29nSMzbGYI/b2dIzNsZgj9bv1Kg1q+EP1u/UqDWr4Q/RhdddNFFhz9GF1100UWHPzFvZ0jM24k/MW9nSMzbiT96O0Ni3s6QP3o7Q2LezpA/b2dIzNsZkj9vZ0jM2xmSP2WTTTbZZJM/ZZNNNtlkkz9bv1Kg1q+UP1u/UqDWr5Q/RhdddNFFlz9GF1100UWXPzFvZ0jM25k/MW9nSMzbmT8nm2yyySabPyebbLLJJps/HMdxHMdxnD8cx3Ecx3GcPwgffPDBB58/CB988MEHnz9/pUCtXymgP3+lQK1fKaA/ejtDYt7OoD96O0Ni3s6gP3TRRRdddKE/dNFFF110oT9vZ0jM2xmiP29nSMzbGaI/av1KgVq/oj9q/UqBWr+iP1VVVVVVVaU/VVVVVVVVpT9LgVq/UqCmP0uBWr9SoKY/MW9nSMzbqT8xb2dIzNupPywFav1Kgao/LAVq/UqBqj8nm2yyySarPyebbLLJJqs/IjFvZ0jMqz8iMW9nSMyrPxLzdobEvK0/EvN2hsS8rT8IH3zwwQevPwgffPDBB68/A7V+pUCtrz8DtX6lQK2vP3zwwQcffLA/fPDBBx98sD93hsS8nSGxP3eGxLydIbE/dNFFF110sT900UUXXXSxP3Icx3Ecx7E/chzHcRzHsT9tsskmm2yyP22yySabbLI/av1KgVq/sj9q/UqBWr+yP2dIzNsZErM/Z0jM2xkSsz9i3s6QmLezP2LezpCYt7M/YClQ61cKtD9gKVDrVwq0P1u/UqDWr7Q/W79SoNavtD9YCtT6lQK1P1gK1PqVArU/VVVVVVVVtT9VVVVVVVW1P1Og1q8UqLU/U6DWrxSotT9Q61cK1Pq1P1DrVwrU+rU/TjbZZJNNtj9ONtlkk022P0Ni3s6QmLc/Q2LezpCYtz8++OCDDz64Pz744IMPPrg/O0Ni3s6QuD87Q2LezpC4PzmO4ziO47g/OY7jOI7juD822WSTTTa5PzbZZJNNNrk/MW9nSMzbuT8xb2dIzNu5Py+66KKLLro/L7rooosuuj8sBWr9SoG6PywFav1Kgbo/JObtDIl5uz8k5u0MiXm7PyIxb2dIzLs/IjFvZ0jMuz8ffPDBBx+8Px988MEHH7w/GhLzdobEvD8aEvN2hsS8PxdddNFFF70/F1100UUXvT8VqPUrBWq9PxWo9SsFar0/EvN2hsS8vT8S83aGxLy9PxA++OCDD74/ED744IMPvj8NiXk7Q2K+Pw2JeTtDYr4/BWr9SoFavz8Fav1KgVq/PwO1fqVArb8/A7V+pUCtvz9/pUCtXynAP3+lQK1fKcA/dNFFF110wT900UUXXXTBP2r9SoFav8I/av1KgVq/wj/poosuuujCP+miiy666MI/Z0jM2xkSwz9nSMzbGRLDP+btDIl5O8M/5u0MiXk7wz9i3s6QmLfDP2LezpCYt8M/3BkS83aGxD/cGRLzdobEP1u/UqDWr8Q/W79SoNavxD9YCtT6lQLFP1gK1PqVAsU/168UqPUrxT/XrxSo9SvFP1Og1q8UqMU/U6DWrxSoxT/PkJi3MyTGP8+QmLczJMY/SMzbGRLzxj9IzNsZEvPGP8W8nSExb8c/xbydITFvxz/CBx988MHHP8IHH3zwwcc/Qa1fKVDrxz9BrV8pUOvHPzmO4ziO48g/OY7jOI7jyD80JObtDInJPzQk5u0Mick/MW9nSMzbyT8xb2dIzNvJP7AUqPUrBco/sBSo9SsFyj8vuuiiiy7KPy+66KKLLso/LAVq/UqByj8sBWr9SoHKP6j1KwVq/co/qPUrBWr9yj+bbLLJJpvMP5tssskmm8w/mbczJObtzD+ZtzMk5u3MPxWo9SsFas0/Faj1KwVqzT+TTTbZZJPNP5NNNtlkk80/ED744IMPzj8QPvjggw/OP4l5O0Ni3s4/iXk7Q2Lezj8Fav1KgVrPPwVq/UqBWs8/gVq/UqDWzz+BWr9SoNbPP79SoNavFNA/v1Kg1q8U0D8++OCDDz7QPz744IMPPtA/fPDBBx980D988MEHH3zQP/uVArV+pdA/+5UCtX6l0D/44IMPPvjQP/jggw8++NA/NCTm7QyJ0T80JObtDInRP/N2hsS8ndE/83aGxLyd0T+wFKj1KwXSP7AUqPUrBdI/qPUrBWr90j+o9SsFav3SPyIxb2dIzNM/IjFvZ0jM0z8ffPDBBx/UPx988MEHH9Q/HMdxHMdx1D8cx3Ecx3HUP9evFKj1K9U/168UqPUr1T/RRRdddNHVP9FFF1100dU/UOtXCtT61T9Q61cK1PrVPxA++OCDD9Y/ED744IMP1j9IzNsZEvPWP0jM2xkS89Y/CB988MEH1z8IH3zwwQfXP4bEvJ0hMdc/hsS8nSEx1z8Fav1KgVrXPwVq/UqBWtc/xbydITFv1z/FvJ0hMW/XPwAAAAAAANg/AAAAAAAA2D+66KKLLrrYP7rooosuutg/LAVq/UqB2j8sBWr9SoHaP6uqqqqqqto/q6qqqqqq2j9lk0022WTbP2WTTTbZZNs/JObtDIl52z8k5u0MiXnbP54hMW9nSNw/niExb2dI3D9bv1Kg1q/cP1u/UqDWr9w/Faj1KwVq3T8VqPUrBWrdPwgffPDBB98/CB988MEH3z+GxLydITHfP4bEvJ0hMd8/wgcffPDB3z/CBx988MHfP1100UUXXeA/XXTRRRdd4D93hsS8nSHhP3eGxLydIeE/1PqVArV+4T/U+pUCtX7hP2r9SoFav+I/av1KgVq/4j8pUOtXCtTiPylQ61cK1OI/iXk7Q2Le4j+JeTtDYt7iPwgffPDBB+M/CB988MEH4z+GxLydITHjP4bEvJ0hMeM/pUCtXylQ4z+lQK1fKVDjP2WTTTbZZOM/ZZNNNtlk4z+EDz744IPjP4QPPvjgg+M/Q2LezpCY4z9DYt7OkJjjP2ApUOtXCuQ/YClQ61cK5D+/UqDWrxTkP79SoNavFOQ/vZ0hMW9n5D+9nSExb2fkP/jggw8++OQ/+OCDDz745D822WSTTTblPzbZZJNNNuU/JObtDIl55z8k5u0MiXnnP6OLLrroouc/o4suuuii5z9BrV8pUOvnP0GtXylQ6+c/sskmm2yy6T+yySabbLLpPwO1fqVAres/A7V+pUCt6z/rVwrU+pXuP+tXCtT6le4/Qa1fKVDr7z8AAAAAAADwPw==",
          "dtype": "f8"
         },
         "xaxis": "x5",
         "y": {
          "bdata": "AAAAAAAAAACR4V4Fs6RsP5HhXgWzpGw/XwWzpBwQmT9fBbOkHBCZPxQ7sRM7saM/FDuxEzuxoz9GF1100UWnP0YXXXTRRac/XwWzpBwQqT9fBbOkHBCpPy0pB0SGe7U/LSkHRIZ7tT85IDLcq2C2PzkgMtyrYLY/RhdddNFFtz9GF1100UW3P18Fs6QcELk/XwWzpBwQuT+E6jNtjb+7P4TqM22Nv7s/4l4Fs6QcwD/iXgWzpBzAP2jaGn83j8A/aNoafzePwD900UUXXXTBP3TRRRdddME/mrbG380jxD+atsbfzSPEP6at8XfzCMU/pq3xd/MIxT+zpBwQGe7FP7OkHBAZ7sU/2Ymd2ImdyD/ZiZ3YiZ3IP/5uHqH6TMs//m4eofpMyz8wS8oBkeHOPzBLygGR4c4/t8bfzSNUzz+3xt/NI1TPP6UcEBnuVdA/pRwQGe5V0D8rmCXlgMjQPyuYJeWAyNA/sRM7sRM70T+xEzuxEzvRP/tMW+Pv5tE/+0xb4+/m0T8UO7ETO7HTPxQ7sRM7sdM/1/i7eYTq0z/X+Lt5hOrTPyAy3KtgltQ/IDLcq2CW1D8tKQdEhnvVPy0pB0SGe9U/g1lSDogM1z+DWVIOiAzXP0YXXXTRRdc/RhdddNFF1z8J1WfaGn/XPwnVZ9oaf9c/FcySckBk2D8VzJJyQGTYP9mJndiJndg/2Ymd2Imd2D+cR6g+09bYP5xHqD7T1tg/XwWzpBwQ2T9fBbOkHBDZP+WAyHCvgtk/5YDIcK+C2T+oPtPW+LvZP6g+09b4u9k/tTX+bh6h2j+1Nf5uHqHaP3jzCNVn2to/ePMI1Wfa2j87sRM7sRPbPzuxEzuxE9s/wSwpB0SG2z/BLCkHRIbbP0ioPtPW+Ns/SKg+09b42z/OI1SfaWvcP84jVJ9pa9w/keFeBbOk3D+R4V4Fs6TcP1SfaWv83dw/VJ9pa/zd3D8XXXTRRRfdPxdddNFFF90/5xGqz7Q13j/nEarPtDXeP/MI1WfaGt8/8wjVZ9oa3z+3xt/NI1TfP7fG380jVN8/4l4Fs6Qc4D/iXgWzpBzgP8O9CmZJOeA/w70KZkk54D9o2hp/N4/gP2jaGn83j+A/STkgMtyr4D9JOSAy3KvgPyuYJeWAyOA/K5gl5YDI4D/uVTBLygHhP+5VMEvKAeE/sRM7sRM74T+xEzuxEzvhP5NyQGS4V+E/k3JAZLhX4T900UUXXXThP3TRRRdddOE/+0xb4+/m4T/7TFvj7+bhP9yrYJaUA+I/3KtglpQD4j++CmZJOSDiP74KZkk5IOI/Yid2Yid24j9iJ3ZiJ3biP0SGexXMkuI/RIZ7FcyS4j8m5YDIcK/iPyblgMhwr+I/B0SGexXM4j8HRIZ7FcziP28eofpMW+M/bx6h+kxb4z8y3KtglpTjPzLcq2CWlOM/FDuxEzux4z8UO7ETO7HjP/WZtsbfzeM/9Zm2xt/N4z+4V8EsKQfkP7hXwSwpB+Q/mrbG380j5D+atsbfzSPkP3wVzJJyQOQ/fBXMknJA5D8/09b4u3nkPz/T1vi7eeQ/IDLcq2CW5D8gMtyrYJbkP8VO7MRO7OQ/xU7sxE7s5D+mrfF38wjlP6at8XfzCOU/LSkHRIZ75T8tKQdEhnvlPw6IDPcqmOU/DogM9yqY5T/RRRdddNHlP9FFF1100eU/s6QcEBnu5T+zpBwQGe7lP5UDIsO9CuY/lQMiw70K5j85IDLcq2DmPzkgMtyrYOY/G383j1B95j8bfzePUH3mP/zdPEL1meY//N08QvWZ5j/ePEL1mbbmP948QvWZtuY/wJtHqD7T5j/Am0eoPtPmP6H6TFvj7+Y/ofpMW+Pv5j+DWVIOiAznP4NZUg6IDOc/ZLhXwSwp5z9kuFfBLCnnP0YXXXTRRec/RhdddNFF5z8J1WfaGn/nPwnVZ9oaf+c/6zNtjb+b5z/rM22Nv5vnP8ySckBkuOc/zJJyQGS45z+u8XfzCNXnP67xd/MI1ec/ca+CWVIO6D9xr4JZUg7oP1IOiAz3Kug/Ug6IDPcq6D80bY2/m0foPzRtjb+bR+g/FcySckBk6D8VzJJyQGToP7rooosuuug/uuiiiy666D+cR6g+09boP5xHqD7T1ug/faat8Xfz6D99pq3xd/PoP18Fs6QcEOk/XwWzpBwQ6T9AZLhXwSzpP0BkuFfBLOk/BCLDvQpm6T8EIsO9CmbpP+WAyHCvguk/5YDIcK+C6T/H380jVJ/pP8ffzSNUn+k/qD7T1vi76T+oPtPW+LvpP4qd2Imd2Ok/ip3YiZ3Y6T9r/N08QvXpP2v83TxC9ek/L7rooosu6j8vuuiiiy7qP9PW+Lt5hOo/09b4u3mE6j+1Nf5uHqHqP7U1/m4eoeo/lpQDIsO96j+WlAMiw73qP3jzCNVn2uo/ePMI1Wfa6j9aUg6IDPfqP1pSDogM9+o/O7ETO7ET6z87sRM7sRPrPx0QGe5VMOs/HRAZ7lUw6z/+bh6h+kzrP/5uHqH6TOs/4M0jVJ9p6z/gzSNUn2nrP8EsKQdEhus/wSwpB0SG6z+jiy666KLrP6OLLrroous/Zkk5IDLc6z9mSTkgMtzrPykHRIZ7Few/KQdEhnsV7D8LZkk5IDLsPwtmSTkgMuw/7MRO7MRO7D/sxE7sxE7sP84jVJ9pa+w/ziNUn2lr7D+vgllSDojsP6+CWVIOiOw/keFeBbOk7D+R4V4Fs6TsP3NAZLhXwew/c0BkuFfB7D9Un2lr/N3sP1SfaWv83ew/F1100UUX7T8XXXTRRRftP/m7eYTqM+0/+bt5hOoz7T/aGn83j1DtP9oafzePUO0/vHmE6jNt7T+8eYTqM23tP57YiZ3Yie0/ntiJndiJ7T9/N49QfabtP383j1B9pu0/YZaUAyLD7T9hlpQDIsPtP0L1mbbG3+0/QvWZtsbf7T8kVJ9pa/ztPyRUn2lr/O0/BbOkHBAZ7j8Fs6QcEBnuP+cRqs+0Ne4/5xGqz7Q17j/JcK+CWVLuP8lwr4JZUu4/qs+0Nf5u7j+qz7Q1/m7uP4wuuuiii+4/jC666KKL7j9tjb+bR6juP22Nv5tHqO4/T+zETuzE7j9P7MRO7MTuPzBLygGR4e4/MEvKAZHh7j8Sqs+0Nf7uPxKqz7Q1/u4/8wjVZ9oa7z/zCNVn2hrvP9Vn2hp/N+8/1WfaGn837z+3xt/NI1TvP7fG380jVO8/mCXlgMhw7z+YJeWAyHDvP3qE6jNtje8/eoTqM22N7z89QvWZtsbvPz1C9Zm2xu8/HqH6TFvj7z8eofpMW+PvPwAAAAAAAPA/AAAAAAAA8D8AAAAAAADwPw==",
          "dtype": "f8"
         },
         "yaxis": "y5"
        },
        {
         "mode": "lines",
         "name": "Random Forest Test (AUC=0.85)",
         "type": "scatter",
         "x": {
          "bdata": "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",
          "dtype": "f8"
         },
         "xaxis": "x6",
         "y": {
          "bdata": "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",
          "dtype": "f8"
         },
         "yaxis": "y6"
        },
        {
         "colorscale": [
          [
           0,
           "rgb(247,251,255)"
          ],
          [
           0.125,
           "rgb(222,235,247)"
          ],
          [
           0.25,
           "rgb(198,219,239)"
          ],
          [
           0.375,
           "rgb(158,202,225)"
          ],
          [
           0.5,
           "rgb(107,174,214)"
          ],
          [
           0.625,
           "rgb(66,146,198)"
          ],
          [
           0.75,
           "rgb(33,113,181)"
          ],
          [
           0.875,
           "rgb(8,81,156)"
          ],
          [
           1,
           "rgb(8,48,107)"
          ]
         ],
         "showscale": false,
         "text": {
          "bdata": "qQJvAGsAswA=",
          "dtype": "i2",
          "shape": "2, 2"
         },
         "texttemplate": "%{text}",
         "type": "heatmap",
         "x": [
          "Pred 0",
          "Pred 1"
         ],
         "xaxis": "x7",
         "y": [
          "True 0",
          "True 1"
         ],
         "yaxis": "y7",
         "z": {
          "bdata": "qQJvAGsAswA=",
          "dtype": "i2",
          "shape": "2, 2"
         }
        },
        {
         "colorscale": [
          [
           0,
           "rgb(247,251,255)"
          ],
          [
           0.125,
           "rgb(222,235,247)"
          ],
          [
           0.25,
           "rgb(198,219,239)"
          ],
          [
           0.375,
           "rgb(158,202,225)"
          ],
          [
           0.5,
           "rgb(107,174,214)"
          ],
          [
           0.625,
           "rgb(66,146,198)"
          ],
          [
           0.75,
           "rgb(33,113,181)"
          ],
          [
           0.875,
           "rgb(8,81,156)"
          ],
          [
           1,
           "rgb(8,48,107)"
          ]
         ],
         "showscale": false,
         "text": {
          "bdata": "hgKDAGUAswA=",
          "dtype": "i2",
          "shape": "2, 2"
         },
         "texttemplate": "%{text}",
         "type": "heatmap",
         "x": [
          "Pred 0",
          "Pred 1"
         ],
         "xaxis": "x8",
         "y": [
          "True 0",
          "True 1"
         ],
         "yaxis": "y8",
         "z": {
          "bdata": "hgKDAGUAswA=",
          "dtype": "i2",
          "shape": "2, 2"
         }
        },
        {
         "mode": "lines",
         "name": "LightGBM Val (AUC=0.82)",
         "type": "scatter",
         "x": {
          "bdata": "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",
          "dtype": "f8"
         },
         "xaxis": "x9",
         "y": {
          "bdata": "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",
          "dtype": "f8"
         },
         "yaxis": "y9"
        },
        {
         "mode": "lines",
         "name": "LightGBM Test (AUC=0.84)",
         "type": "scatter",
         "x": {
          "bdata": "AAAAAAAAAAAAAAAAAAAAAAAAAAAAAAAAYVEBHBMWZT9hUQEcExZlPxL6AaocoW8/EvoBqhyhbz9hUQEcExZ1P2FRARwTFnU/uaUB45dbej+5pQHjl1t6PxL6AaocoX8/EvoBqhyhfz81J4G4UHOCPzUngbhQc4I/jXuBf9W4hz+Ne4F/1biHP7mlAeOXW4o/uaUB45dbij/mz4FGWv6MP+bPgUZa/ow/EvoBqhyhjz8S+gGqHKGPPx8SwYbvIZE/HxLBhu8hkT81J4G4UHOSPzUngbhQc5I/YVEBHBMWlT9hUQEcExaVP3dmwU10Z5Y/d2bBTXRnlj+Ne4F/1biXP417gX/VuJc/o5BBsTYKmT+jkEGxNgqZP7mlAeOXW5o/uaUB45dbmj/QusEU+aybP9C6wRT5rJs/5s+BRlr+nD/mz4FGWv6cPxL6AaocoZ8/EvoBqhyhnz+qHKEfoMqhP6ocoR+gyqE/NSeBuFBzoj81J4G4UHOiP8AxYVEBHKM/wDFhUQEcoz9LPEHqscSjP0s8QeqxxKM/1kYhg2JtpD/WRiGDYm2kP2FRARwTFqU/YVEBHBMWpT93ZsFNdGemP3dmwU10Z6Y/AnGh5iQQpz8CcaHmJBCnP6OQQbE2Cqk/o5BBsTYKqT9FsOF7SASrP0Ww4XtIBKs/0LrBFPmsqz/QusEU+ayrP+bPgUZa/qw/5s+BRlr+rD/85EF4u0+uP/zkQXi7T64/h+8hEWz4rj+H7yERbPiuPxL6Aaocoa8/EvoBqhyhrz+UB+HtPnmwP5QH4e0+ebA/HxLBhu8hsT8fEsGG7yGxP2QXMdNHdrE/ZBcx00d2sT/wIRFs+B6yP/AhEWz4HrI/NSeBuFBzsj81J4G4UHOyP8AxYVEBHLM/wDFhUQEcsz8GN9GdWXCzPwY30Z1ZcLM/SzxB6rHEsz9LPEHqscSzP9ZGIYNibbQ/1kYhg2JttD9hUQEcExa1P2FRARwTFrU/p1ZxaGtqtT+nVnFoa2q1P+xb4bTDvrU/7FvhtMO+tT93ZsFNdGe2P3dmwU10Z7Y/vWsxmsy7tj+9azGazLu2P9OA8cstDbg/04Dxyy0NuD90oJGWPwe6P3SgkZY/B7o/uaUB45dbuj+5pQHjl1u6P9C6wRT5rLs/0LrBFPmsuz9bxaGtqVW8P1vFoa2pVbw/5s+BRlr+vD/mz4FGWv68PyvV8ZKyUr0/K9XxkrJSvT9x2mHfCqe9P3HaYd8Kp70//ORBeLtPvj/85EF4u0++P8z0kV3ETL8/zPSRXcRMvz9X/3H2dPW/P1f/cfZ09b8/TgJxoeYkwD9OAnGh5iTAPzcKGRRro8A/NwoZFGujwD/ZDFE6l83AP9kMUTqXzcA/HxLBhu8hwT8fEsGG7yHBP/AhEWz4HsI/8CERbPgewj+SJEmSJEnCP5IkSZIkScI/eyzxBKnHwj97LPEEqcfCP6g5CcSFmsM/qDkJxIWawz+RQbE2ChnEP5FBsTYKGcQ/1kYhg2JtxD/WRiGDYm3EPxxMkc+6wcQ/HEyRz7rBxD8EVDlCP0DFPwRUOUI/QMU/SVmpjpeUxT9JWamOl5TFP+xb4bTDvsU/7FvhtMO+xT+PXhnb7+jFP49eGdvv6MU/MmFRARwTxj8yYVEBHBPGP9VjiSdIPcY/1WOJJ0g9xj93ZsFNdGfGP3dmwU10Z8Y/Gmn5c6CRxj8aaflzoJHGP71rMZrMu8Y/vWsxmsy7xj9IdhEzfWTHP0h2ETN9ZMc/63hJWamOxz/reElZqY7HPzB+uaUB48c/MH65pQHjxz/TgPHLLQ3IP9OA8cstDcg/0Z1ZcBPdyT/RnVlwE93JP3SgkZY/B8o/dKCRlj8Hyj//qnEv8K/KP/+qcS/wr8o/RbDhe0gEyz9FsOF7SATLPxXAMWFRAcw/FcAxYVEBzD+gyhH6AarMP6DKEfoBqsw/ztcpud58zT/O1ym53nzNP/zkQXi7T84//ORBeLtPzj+H7yERbPjOP4fvIRFs+M4/zPSRXcRMzz8S+gGqHKHPPxL6Aaococ8/tfw50EjLzz+1/DnQSMvPP/0AVY7QD9A//QBVjtAP0D/xBKnHEk/QP/EEqccST9A/5Qj9AFWO0D/lCP0AVY7QP9kMUTqXzdA/2QxROpfN0D8rDm1NreLQPysObU2t4tA/fA+JYMP30D98D4lgw/fQP8IU+awbTNE/whT5rBtM0T+eIPVY4gnSP54g9VjiCdI/5CVlpTpe0j/kJWWlOl7SPykr1fGSstI/KSvV8ZKy0j/MLQ0Yv9zSP8wtDRi/3NI/bzBFPusG0z9vMEU+6wbTP8AxYVEBHNM/wDFhUQEc0z8RM31kFzHTPxEzfWQXMdM/qDkJxIWa0z+oOQnEhZrTP0s8QeqxxNM/SzxB6rHE0z8/QJUj9APUPz9AlSP0A9Q/1kYhg2Jt1D/WRiGDYm3UP8pKdbykrNQ/ykp1vKSs1D8EVDlCP0DVPwRUOUI/QNU/p1ZxaGtq1T+nVnFoa2rVP0lZqY6XlNU/SVmpjpeU1T/VY4knSD3WP9VjiSdIPdY/a2oVh7am1j9rahWHtqbWP6Vz2QxROtc/pXPZDFE61z+Zdy1Gk3nXP5l3LUaTedc/JIIN30Mi2D8kgg3fQyLYP6+M7Xf0ytg/r4ztd/TK2D9SjyWeIPXYP1KPJZ4g9dg/o5BBsTYK2T+jkEGxNgrZP/WRXcRMH9k/9ZFdxEwf2T+AnD1d/cfZP4CcPV39x9k/C6cd9q1w2j8Lpx32rXDaP5ax/Y5eGds/lrH9jl4Z2z85tDW1ikPbPzm0NbWKQ9s/W8WhralV3D9bxaGtqVXcP6DKEfoBqtw/oMoR+gGq3D/O1ym53nzdP87XKbnefN0/WeIJUo8l3j9Z4glSjyXeP/DolbH9jt4/8OiVsf2O3j/k7OnqP87eP+Ts6eo/zt4/VADHhEUF4D9UAMeERQXgP/0AVY7QD+A//QBVjtAP4D+gA420/DngP6ADjbT8OeA/NwoZFGuj4D83ChkUa6PgP8gST5B6LOE/yBJPkHos4T/CFPmsG0zhP8IU+awbTOE/FzHTR3YR4z8XMdNHdhHjP7ozC26iO+M/ujMLbqI74z8oSD2WeILkPyhIPZZ4guQ/xEwf2UXM5D/ETB/ZRczkP3dmwU10Z+Y/d2bBTXRn5j9rahWHtqbmP2tqFYe2puY/vWsxmsy75j+9azGazLvmP0/J9ebrlOw/oMoR+gGq7D+UzmUzROnsP+bPgUZa/uw/AAAAAAAA8D8=",
          "dtype": "f8"
         },
         "xaxis": "x10",
         "y": {
          "bdata": "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",
          "dtype": "f8"
         },
         "yaxis": "y10"
        },
        {
         "colorscale": [
          [
           0,
           "rgb(247,251,255)"
          ],
          [
           0.125,
           "rgb(222,235,247)"
          ],
          [
           0.25,
           "rgb(198,219,239)"
          ],
          [
           0.375,
           "rgb(158,202,225)"
          ],
          [
           0.5,
           "rgb(107,174,214)"
          ],
          [
           0.625,
           "rgb(66,146,198)"
          ],
          [
           0.75,
           "rgb(33,113,181)"
          ],
          [
           0.875,
           "rgb(8,81,156)"
          ],
          [
           1,
           "rgb(8,48,107)"
          ]
         ],
         "showscale": false,
         "text": {
          "bdata": "wAJYAIIAnAA=",
          "dtype": "i2",
          "shape": "2, 2"
         },
         "texttemplate": "%{text}",
         "type": "heatmap",
         "x": [
          "Pred 0",
          "Pred 1"
         ],
         "xaxis": "x11",
         "y": [
          "True 0",
          "True 1"
         ],
         "yaxis": "y11",
         "z": {
          "bdata": "wAJYAIIAnAA=",
          "dtype": "i2",
          "shape": "2, 2"
         }
        },
        {
         "colorscale": [
          [
           0,
           "rgb(247,251,255)"
          ],
          [
           0.125,
           "rgb(222,235,247)"
          ],
          [
           0.25,
           "rgb(198,219,239)"
          ],
          [
           0.375,
           "rgb(158,202,225)"
          ],
          [
           0.5,
           "rgb(107,174,214)"
          ],
          [
           0.625,
           "rgb(66,146,198)"
          ],
          [
           0.75,
           "rgb(33,113,181)"
          ],
          [
           0.875,
           "rgb(8,81,156)"
          ],
          [
           1,
           "rgb(8,48,107)"
          ]
         ],
         "showscale": false,
         "text": {
          "bdata": "qAJhAHwAnAA=",
          "dtype": "i2",
          "shape": "2, 2"
         },
         "texttemplate": "%{text}",
         "type": "heatmap",
         "x": [
          "Pred 0",
          "Pred 1"
         ],
         "xaxis": "x12",
         "y": [
          "True 0",
          "True 1"
         ],
         "yaxis": "y12",
         "z": {
          "bdata": "qAJhAHwAnAA=",
          "dtype": "i2",
          "shape": "2, 2"
         }
        },
        {
         "mode": "lines",
         "name": "Decision Tree Val (AUC=0.80)",
         "type": "scatter",
         "x": {
          "bdata": "AAAAAAAAAABbv1Kg1q90P1gK1PqVArU/Qa1fKVDrtz87Q2LezpC4PzQk5u0Mibk/L7rooosuuj8k5u0MiXm7P/jggw8++MA/83aGxLydwT9q/UqBWr/CP1u/UqDWr8Q/2WSTTTbZxD85juM4juPQP9T6lQK1ftU/UOtXCtT61T8IH3zwwQfXPwVq/UqBWtc/vZ0hMW9n2D+4MyTm7QzZP/N2hsS8ndk/Z0jM2xkS2z/XrxSo9SvdP8+QmLczJN4/sskmm2yy4T/PkJi3MyTiP8+QmLczJOI/TjbZZJNN4j8NiXk7Q2LiP8omm2yyyeI/6aKLLrro4j+EDz744IPjP/YrBWr9SuU/EvN2hsS85T/poosuuujqPwAAAAAAAPA/",
          "dtype": "f8"
         },
         "xaxis": "x13",
         "y": {
          "bdata": "AAAAAAAAAAAtKQdEhnuFP8CbR6g+09Y/ziNUn2lr3D+R4V4Fs6TcP9oafzePUN0/2hp/N49Q3T9hlpQDIsPdP+5VMEvKAeE/7lUwS8oB4T/cq2CWlAPiP9f4u3mE6uM/fBXMknJA5D8J1WfaGn/nPwQiw70KZuk/x9/NI1Sf6T8QGe5VMEvqPxAZ7lUwS+o/09b4u3mE6j948wjVZ9rqPzuxEzuxE+s/wSwpB0SG6z9mSTkgMtzrP0ioPtPW+Os/2hp/N49Q7T+8eYTqM23tP383j1B9pu0/YZaUAyLD7T9hlpQDIsPtP0L1mbbG3+0/BbOkHBAZ7j+MLrrooovuPxKqz7Q1/u4/8wjVZ9oa7z+3xt/NI1TvPwAAAAAAAPA/",
          "dtype": "f8"
         },
         "yaxis": "y13"
        },
        {
         "mode": "lines",
         "name": "Decision Tree Test (AUC=0.80)",
         "type": "scatter",
         "x": {
          "bdata": "AAAAAAAAAAAAAAAAAAAAAI17gX/VuIc/uaUB45dbuj8S+gGqHKG/P3wPiWDD98A/qhyhH6DKwT/wIRFs+B7CP6dWcWhrasU/AnGh5iQQxz+jkEGxNgrJPxejybxrMco/XKg5CcSFyj+SJEmSJEnSP7FvhdMO+9Y/jXuBf9W41z+YlJXqeEnZP+mVsf2OXtk/I591gyny2T+uqVUc2praP6KtqVUc2to/K9XxkrJS3T9Z4glSjyXeP2oVh7amVuE/Xxnb7+iV4T9ZG4UMirXhP6QeSzxB6uE/9R9nT1f/4T81J4G4UHPiP4AqR+gHqOI/DDUngbhQ4z/4V417gX/lP9VjiSdIPeY/UKyNQgbF6j8AAAAAAADwPw==",
          "dtype": "f8"
         },
         "xaxis": "x14",
         "y": {
          "bdata": "AAAAAAAAAAAd1EEd1EFtP5IkSZIkSZI/AAAAAAAA2D+3bdu2bdveP7dt27Zt294/sPiKr/iK3z/UQR3UQR3gP+MrvuIrvuI/4yu+4iu+4j8zMzMzMzPjPx3UQR3UQeU/xVd8xVd85T9QB3VQB3XoPw/qoA7qoOo/MzMzMzMz6z/UQR3UQR3sP9RBHdRBHew/+Yqv+Iqv7D/NzMzMzMzsP83MzMzMzOw/xVd8xVd87T+amZmZmZntP2ZmZmZmZu4/O6iDOqiD7j87qIM6qIPuPw/qoA7qoO4/D+qgDuqg7j8P6qAO6qDuPw/qoA7qoO4/t23btm3b7j+3bdu2bdvuP1/xFV/xFe8/B3VQB3VQ7z8AAAAAAADwPw==",
          "dtype": "f8"
         },
         "yaxis": "y14"
        },
        {
         "colorscale": [
          [
           0,
           "rgb(247,251,255)"
          ],
          [
           0.125,
           "rgb(222,235,247)"
          ],
          [
           0.25,
           "rgb(198,219,239)"
          ],
          [
           0.375,
           "rgb(158,202,225)"
          ],
          [
           0.5,
           "rgb(107,174,214)"
          ],
          [
           0.625,
           "rgb(66,146,198)"
          ],
          [
           0.75,
           "rgb(33,113,181)"
          ],
          [
           0.875,
           "rgb(8,81,156)"
          ],
          [
           1,
           "rgb(8,48,107)"
          ]
         ],
         "showscale": false,
         "text": {
          "bdata": "mAKAAGwAsgA=",
          "dtype": "i2",
          "shape": "2, 2"
         },
         "texttemplate": "%{text}",
         "type": "heatmap",
         "x": [
          "Pred 0",
          "Pred 1"
         ],
         "xaxis": "x15",
         "y": [
          "True 0",
          "True 1"
         ],
         "yaxis": "y15",
         "z": {
          "bdata": "mAKAAGwAsgA=",
          "dtype": "i2",
          "shape": "2, 2"
         }
        },
        {
         "colorscale": [
          [
           0,
           "rgb(247,251,255)"
          ],
          [
           0.125,
           "rgb(222,235,247)"
          ],
          [
           0.25,
           "rgb(198,219,239)"
          ],
          [
           0.375,
           "rgb(158,202,225)"
          ],
          [
           0.5,
           "rgb(107,174,214)"
          ],
          [
           0.625,
           "rgb(66,146,198)"
          ],
          [
           0.75,
           "rgb(33,113,181)"
          ],
          [
           0.875,
           "rgb(8,81,156)"
          ],
          [
           1,
           "rgb(8,48,107)"
          ]
         ],
         "showscale": false,
         "text": {
          "bdata": "agKfAF4AugA=",
          "dtype": "i2",
          "shape": "2, 2"
         },
         "texttemplate": "%{text}",
         "type": "heatmap",
         "x": [
          "Pred 0",
          "Pred 1"
         ],
         "xaxis": "x16",
         "y": [
          "True 0",
          "True 1"
         ],
         "yaxis": "y16",
         "z": {
          "bdata": "agKfAF4AugA=",
          "dtype": "i2",
          "shape": "2, 2"
         }
        },
        {
         "mode": "lines",
         "name": "SVM Val (AUC=0.72)",
         "type": "scatter",
         "x": {
          "bdata": "AAAAAAAAAAAAAAAAAAAAAFu/UqDWr2Q/W79SoNavZD9bv1Kg1q90P1u/UqDWr3Q/MW9nSMzbeT8xb2dIzNt5PwgffPDBB38/CB988MEHfz9vZ0jM2xmCP29nSMzbGYI/W79SoNavhD9bv1Kg1q+EP0YXXXTRRYc/RhdddNFFhz8IH3zwwQePPwgffPDBB48/b2dIzNsZkj9vZ0jM2xmSP2WTTTbZZJM/ZZNNNtlkkz9Q61cK1PqVP1DrVwrU+pU/O0Ni3s6QmD87Q2LezpCYPyebbLLJJps/J5tssskmmz8cx3Ecx3GcPxzHcRzHcZw/EvN2hsS8nT8S83aGxLydP3+lQK1fKaA/f6VArV8poD96O0Ni3s6gP3o7Q2LezqA/dNFFF110oT900UUXXXShP2r9SoFav6I/av1KgVq/oj9lk0022WSjP2WTTTbZZKM/YClQ61cKpD9gKVDrVwqkP1u/UqDWr6Q/W79SoNavpD9VVVVVVVWlP1VVVVVVVaU/UOtXCtT6pT9Q61cK1PqlP0uBWr9SoKY/S4Fav1Kgpj9GF1100UWnP0YXXXTRRac/Qa1fKVDrpz9BrV8pUOunPztDYt7OkKg/O0Ni3s6QqD822WSTTTapPzbZZJNNNqk/MW9nSMzbqT8xb2dIzNupPywFav1Kgao/LAVq/UqBqj8nm2yyySarPyebbLLJJqs/HMdxHMdxrD8cx3Ecx3GsPxLzdobEvK0/EvN2hsS8rT8IH3zwwQevPwgffPDBB68/d4bEvJ0hsT93hsS8nSGxP3Icx3Ecx7E/chzHcRzHsT9vZ0jM2xmyP29nSMzbGbI/W79SoNavtD9bv1Kg1q+0P1DrVwrU+rU/UOtXCtT6tT9DYt7OkJi3P0Ni3s6QmLc/L7rooosuuj8vuuiiiy66PylQ61cK1Lo/KVDrVwrUuj8k5u0MiXm7PyTm7QyJebs/HMdxHMdxvD8cx3Ecx3G8PxWo9SsFar0/Faj1KwVqvT8NiXk7Q2K+Pw2JeTtDYr4/CB988MEHvz8IH3zwwQe/PwAAAAAAAMA/AAAAAAAAwD9/pUCtXynAP3+lQK1fKcA/+OCDDz74wD/44IMPPvjAP3eGxLydIcE/d4bEvJ0hwT900UUXXXTBP3TRRRdddME/chzHcRzHwT9yHMdxHMfBP22yySabbMI/bbLJJptswj/m7QyJeTvDP+btDIl5O8M/4YMPPvjgwz/hgw8++ODDP9wZEvN2hsQ/3BkS83aGxD9bv1Kg1q/EP1u/UqDWr8Q/VVVVVVVVxT9VVVVVVVXFP0422WSTTcY/TjbZZJNNxj9LgVq/UqDGP0uBWr9SoMY/yiabbLLJxj/KJptsssnGP0GtXylQ68c/Qa1fKVDrxz+yySabbLLJP7LJJptsssk/L7rooosuyj8vuuiiiy7KPylQ61cK1Mo/KVDrVwrUyj+lQK1fKVDLP6VArV8pUMs/JObtDIl5yz8k5u0MiXnLPx988MEHH8w/H3zwwQcfzD+ZtzMk5u3MP5m3MyTm7cw/F1100UUXzT8XXXTRRRfNPwrU+pUCtc4/CtT6lQK1zj+EDz744IPPP4QPPvjgg88/O0Ni3s6Q0D87Q2LezpDQP3o7Q2LeztA/ejtDYt7O0D85juM4juPQPzmO4ziO49A/+OCDDz740D/44IMPPvjQP/N2hsS8ndE/83aGxLyd0T+yySabbLLRP7LJJptsstE/rV8pUOtX0j+tXylQ61fSP2r9SoFav9I/av1KgVq/0j8pUOtXCtTSPylQ61cK1NI/ZZNNNtlk0z9ddNFFF13UP5m3MyTm7dQ/mbczJObt1D+WArV+pUDVP5YCtX6lQNU/iXk7Q2Le1j+JeTtDYt7WP0YXXXTRRdc/RhdddNFF1z/FvJ0hMW/XP8W8nSExb9c/A7V+pUCt1z8DtX6lQK3XP3+lQK1fKdg/f6VArV8p2D+66KKLLrrYP7rooosuutg/sskmm2yy2T+yySabbLLZPzFvZ0jM29k/MW9nSMzb2T9vZ0jM2xnaP29nSMzbGdo/q6qqqqqq2j+rqqqqqqraPylQ61cK1No/KVDrVwrU2j/poosuuujaP+miiy666No/pUCtXylQ2z+lQK1fKVDbPyTm7QyJeds/JObtDIl52z/hgw8++ODbP+GDDz744Ns/oNavFKj12z+g1q8UqPXbPx988MEHH9w/H3zwwQcf3D+eITFvZ0jcP54hMW9nSNw/XXTRRRdd3D9ddNFFF13cP1u/UqDWr9w/W79SoNav3D8XXXTRRRfdPxdddNFFF90/U6DWrxSo3T9ToNavFKjdPxLzdobEvN0/EvN2hsS83T9LgVq/UqDeP0uBWr9SoN4/CB988MEH3z8IH3zwwQffP0YXXXTRRd8/RhdddNFF3z/FvJ0hMW/fP8W8nSExb98/wgcffPDB3z/CBx988MHfP4Fav1Kg1t8/gVq/UqDW3z9gKVDrVwrgP2ApUOtXCuA/v1Kg1q8U4D+/UqDWrxTgPz744IMPPuA/Pvjggw8+4D+9nSExb2fgP72dITFvZ+A/fPDBBx984D988MEHH3zgP5tssskmm+A/m2yyySab4D+1fqVArV/hP7V+pUCtX+E/chzHcRzH4T9yHMdxHMfhP7AUqPUrBeI/sBSo9SsF4j9ONtlkk03iP0422WSTTeI/bbLJJpts4j9tsskmm2ziP8zbGRLzduI/zNsZEvN24j+MLrroooviP4wuuuiii+I/q6qqqqqq4j+rqqqqqqriP2r9SoFav+I/av1KgVq/4j8k5u0MiXnjPyTm7QyJeeM/o4suuuii4z+jiy666KLjP4Fav1Kg1uM/gVq/UqDW4z+/UqDWrxTkP79SoNavFOQ/3BkS83aG5D/cGRLzdobkPxoS83aGxOQ/GhLzdobE5D8XXXTRRRflPxdddNFFF+U/1PqVArV+5T/U+pUCtX7lP7LJJptssuU/sskmm2yy5T/RRRdddNHlP9FFF1100eU/8MEHH3zw5T/wwQcffPDlP+4MiXk7Q+Y/7gyJeTtD5j+tXylQ61fmP61fKVDrV+Y/DYl5O0Ni5j8NiXk7Q2LmP6uqqqqqquY/q6qqqqqq5j+o9SsFav3mP6j1KwVq/eY/CB988MEH5z8IH3zwwQfnP8dxHMdxHOc/x3Ecx3Ec5z+GxLydITHnP4bEvJ0hMec/BWr9SoFa5z8Fav1KgVrnP6OLLrroouc/o4suuuii5z9i3s6QmLfnP2LezpCYt+c/wgcffPDB5z/CBx988MHnP4Fav1Kg1uc/gVq/UqDW5z/hgw8++ODnP+GDDz744Oc/v1Kg1q8U6D+/UqDWrxToP5tssskmm+g/m2yyySab6D9bv1Kg1q/oP1u/UqDWr+g/uuiiiy666D+66KKLLrroPxoS83aGxOg/GhLzdobE6D8S83aGxLzpPxLzdobEvOk/chzHcRzH6T9yHMdxHMfpP8+QmLczJOo/z5CYtzMk6j/rVwrU+pXqP+tXCtT6leo/ZZNNNtlk6z9lk0022WTrPx988MEHH+w/H3zwwQcf7D8VqPUrBWrtPxWo9SsFau0/0UUXXXTR7T/RRRdddNHtP/DBBx988O0/8MEHH3zw7T/FvJ0hMW/vP8W8nSExb+8/AAAAAAAA8D8=",
          "dtype": "f8"
         },
         "xaxis": "x17",
         "y": {
          "bdata": "AAAAAAAAAACR4V4Fs6RsP5HhXgWzpGw/LSkHRIZ7pT8tKQdEhnulP0YXXXTRRac/RhdddNFFpz948wjVZ9qqP3jzCNVn2qo/7lUwS8oBsT/uVTBLygGxP/tMW+Pv5rE/+0xb4+/msT+qz7Q1/m6+P6rPtDX+br4/dNFFF110wT900UUXXXTBP/tMW+Pv5sE/+0xb4+/mwT+ByHCvglnCP4HIcK+CWcI/jb+bR6g+wz+Nv5tHqD7DPxQ7sRM7scM/FDuxEzuxwz+zpBwQGe7FP7OkHBAZ7sU/XwWzpBwQyT9fBbOkHBDJP/J38wjVZ8o/8nfzCNVnyj948wjVZ9rKP3jzCNVn2so/keFeBbOkzD+R4V4Fs6TMP57YiZ3Yic0/ntiJndiJzT8wS8oBkeHOPzBLygGR4c4/4l4Fs6Qc0D/iXgWzpBzQP2jaGn83j9A/aNoafzeP0D/uVTBLygHRP+5VMEvKAdE/gchwr4JZ0j+ByHCvglnSP0SGexXMktI/RIZ7FcyS0j8HRIZ7FczSPwdEhnsVzNI/ygGR4V4F0z/KAZHhXgXTP1F9pq3xd9M/UX2mrfF30z/X+Lt5hOrTP9f4u3mE6tM/mrbG380j1D+atsbfzSPUP1100UUXXdQ/XXTRRRdd1D8gMtyrYJbUPyAy3KtgltQ/4+/mEarP1D/j7+YRqs/UPy0pB0SGe9U/LSkHRIZ71T92Yid2YifWP3ZiJ3ZiJ9Y/wJtHqD7T1j/Am0eoPtPWP0YXXXTRRdc/RhdddNFF1z8J1WfaGn/XPwnVZ9oaf9c/Ug6IDPcq2D9SDogM9yrYPxXMknJAZNg/FcySckBk2D/ZiZ3YiZ3YP9mJndiJndg/nEeoPtPW2D+cR6g+09bYP18Fs6QcENk/XwWzpBwQ2T8iw70KZknZPyLDvQpmSdk/5YDIcK+C2T/lgMhwr4LZP2v83TxC9dk/a/zdPEL12T8vuuiiiy7aPy+66KKLLto/tTX+bh6h2j+1Nf5uHqHaP3jzCNVn2to/ePMI1Wfa2j87sRM7sRPbPzuxEzuxE9s/hOozbY2/2z+E6jNtjb/bP84jVJ9pa9w/ziNUn2lr3D+R4V4Fs6TcP5HhXgWzpNw/VJ9pa/zd3D9Un2lr/N3cPxdddNFFF90/F1100UUX3T+e2Imd2IndP57YiZ3Yid0/YZaUAyLD3T9hlpQDIsPdP22Nv5tHqN4/bY2/m0eo3j8wS8oBkeHePzBLygGR4d4/t8bfzSNU3z+3xt/NI1TfPz1C9Zm2xt8/PUL1mbbG3z8AAAAAAADgPwAAAAAAAOA/w70KZkk54D/DvQpmSTngP6UcEBnuVeA/pRwQGe5V4D+GexXMknLgP4Z7FcyScuA/aNoafzeP4D9o2hp/N4/gP0k5IDLcq+A/STkgMtyr4D8N9yqYJeXgPw33Kpgl5eA/7lUwS8oB4T/uVTBLygHhP9C0Nf5uHuE/0LQ1/m4e4T+xEzuxEzvhP7ETO7ETO+E/k3JAZLhX4T+TckBkuFfhP1YwS8oBkeE/VjBLygGR4T83j1B9pq3hPzePUH2mreE/Ge5VMEvK4T8Z7lUwS8rhP/tMW+Pv5uE/+0xb4+/m4T/cq2CWlAPiP9yrYJaUA+I/vgpmSTkg4j++CmZJOSDiP59pa/zdPOI/n2lr/N084j+ByHCvglniP4HIcK+CWeI/Yid2Yid24j9iJ3ZiJ3biP0SGexXMkuI/RIZ7FcyS4j8HRIZ7FcziPwdEhnsVzOI/ygGR4V4F4z/KAZHhXgXjP6xglpQDIuM/rGCWlAMi4z/X+Lt5hOrjP9f4u3mE6uM/uFfBLCkH5D+4V8EsKQfkPz/T1vi7eeQ/P9PW+Lt55D8gMtyrYJbkPyAy3KtgluQ/ApHhXgWz5D8CkeFeBbPkP+Pv5hGqz+Q/4+/mEarP5D+mrfF38wjlP6at8XfzCOU/iAz3Kpgl5T+IDPcqmCXlP2pr/N08QuU/amv83TxC5T9LygGR4V7lP0vKAZHhXuU/LSkHRIZ75T8tKQdEhnvlP/DmEarPtOU/8OYRqs+05T/RRRdddNHlP9FFF1100eU/s6QcEBnu5T+zpBwQGe7lP5UDIsO9CuY/lQMiw70K5j92Yid2YifmP3ZiJ3ZiJ+Y/WMEsKQdE5j9YwSwpB0TmPzkgMtyrYOY/OSAy3Ktg5j8bfzePUH3mPxt/N49QfeY//N08QvWZ5j/83TxC9ZnmP948QvWZtuY/3jxC9Zm25j/Am0eoPtPmP8CbR6g+0+Y/ofpMW+Pv5j+h+kxb4+/mP0YXXXTRRec/RhdddNFF5z8ndmIndmLnPyd2Yid2Yuc/CdVn2hp/5z8J1WfaGn/nP8ySckBkuOc/zJJyQGS45z+PUH2mrfHnP49Qfaat8ec/ca+CWVIO6D9xr4JZUg7oP1IOiAz3Kug/Ug6IDPcq6D80bY2/m0foPzRtjb+bR+g/FcySckBk6D8VzJJyQGToP/cqmCXlgOg/9yqYJeWA6D+66KKLLrroP7rooosuuug/nEeoPtPW6D+cR6g+09boP32mrfF38+g/faat8Xfz6D9fBbOkHBDpP18Fs6QcEOk/QGS4V8Es6T9AZLhXwSzpPyLDvQpmSek/IsO9CmZJ6T8EIsO9CmbpPwQiw70KZuk/5YDIcK+C6T/lgMhwr4LpP8ffzSNUn+k/x9/NI1Sf6T+oPtPW+LvpP6g+09b4u+k/ip3YiZ3Y6T+KndiJndjpP01b4+/mEeo/TVvj7+YR6j8QGe5VMEvqPxAZ7lUwS+o/09b4u3mE6j/T1vi7eYTqP7U1/m4eoeo/tTX+bh6h6j+WlAMiw73qP5aUAyLDveo/ePMI1Wfa6j948wjVZ9rqP1pSDogM9+o/WlIOiAz36j87sRM7sRPrPzuxEzuxE+s//m4eofpM6z/+bh6h+kzrP+DNI1Sfaes/4M0jVJ9p6z/BLCkHRIbrP8EsKQdEhus/o4suuuii6z+jiy666KLrP4TqM22Nv+s/hOozbY2/6z9mSTkgMtzrP2ZJOSAy3Os/SKg+09b46z9IqD7T1vjrPykHRIZ7Few/KQdEhnsV7D/sxE7sxE7sP+zETuzETuw/ziNUn2lr7D/OI1SfaWvsP6+CWVIOiOw/r4JZUg6I7D+R4V4Fs6TsP5HhXgWzpOw/c0BkuFfB7D9zQGS4V8HsP1SfaWv83ew/VJ9pa/zd7D82/m4eofrsPzb+bh6h+uw/F1100UUX7T8XXXTRRRftP9oafzePUO0/2hp/N49Q7T9/N49QfabtP383j1B9pu0/YZaUAyLD7T9hlpQDIsPtPyRUn2lr/O0/JFSfaWv87T8Fs6QcEBnuPwWzpBwQGe4/yXCvgllS7j/JcK+CWVLuP6rPtDX+bu4/qs+0Nf5u7j+MLrrooovuP4wuuuiii+4/bY2/m0eo7j9tjb+bR6juP0/sxE7sxO4/T+zETuzE7j8Sqs+0Nf7uPxKqz7Q1/u4/1WfaGn837z/VZ9oafzfvP7fG380jVO8/t8bfzSNU7z+YJeWAyHDvP5gl5YDIcO8/eoTqM22N7z96hOozbY3vP1vj7+YRqu8/W+Pv5hGq7z89QvWZtsbvPz1C9Zm2xu8/HqH6TFvj7z8eofpMW+PvPwAAAAAAAPA/AAAAAAAA8D8=",
          "dtype": "f8"
         },
         "yaxis": "y17"
        },
        {
         "mode": "lines",
         "name": "SVM Test (AUC=0.76)",
         "type": "scatter",
         "x": {
          "bdata": "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",
          "dtype": "f8"
         },
         "xaxis": "x18",
         "y": {
          "bdata": "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",
          "dtype": "f8"
         },
         "yaxis": "y18"
        },
        {
         "colorscale": [
          [
           0,
           "rgb(247,251,255)"
          ],
          [
           0.125,
           "rgb(222,235,247)"
          ],
          [
           0.25,
           "rgb(198,219,239)"
          ],
          [
           0.375,
           "rgb(158,202,225)"
          ],
          [
           0.5,
           "rgb(107,174,214)"
          ],
          [
           0.625,
           "rgb(66,146,198)"
          ],
          [
           0.75,
           "rgb(33,113,181)"
          ],
          [
           0.875,
           "rgb(8,81,156)"
          ],
          [
           1,
           "rgb(8,48,107)"
          ]
         ],
         "showscale": false,
         "text": {
          "bdata": "MwLlAHYAqAA=",
          "dtype": "i2",
          "shape": "2, 2"
         },
         "texttemplate": "%{text}",
         "type": "heatmap",
         "x": [
          "Pred 0",
          "Pred 1"
         ],
         "xaxis": "x19",
         "y": [
          "True 0",
          "True 1"
         ],
         "yaxis": "y19",
         "z": {
          "bdata": "MwLlAHYAqAA=",
          "dtype": "i2",
          "shape": "2, 2"
         }
        },
        {
         "colorscale": [
          [
           0,
           "rgb(247,251,255)"
          ],
          [
           0.125,
           "rgb(222,235,247)"
          ],
          [
           0.25,
           "rgb(198,219,239)"
          ],
          [
           0.375,
           "rgb(158,202,225)"
          ],
          [
           0.5,
           "rgb(107,174,214)"
          ],
          [
           0.625,
           "rgb(66,146,198)"
          ],
          [
           0.75,
           "rgb(33,113,181)"
          ],
          [
           0.875,
           "rgb(8,81,156)"
          ],
          [
           1,
           "rgb(8,48,107)"
          ]
         ],
         "showscale": false,
         "text": {
          "bdata": "MQLYAGoArgA=",
          "dtype": "i2",
          "shape": "2, 2"
         },
         "texttemplate": "%{text}",
         "type": "heatmap",
         "x": [
          "Pred 0",
          "Pred 1"
         ],
         "xaxis": "x20",
         "y": [
          "True 0",
          "True 1"
         ],
         "yaxis": "y20",
         "z": {
          "bdata": "MQLYAGoArgA=",
          "dtype": "i2",
          "shape": "2, 2"
         }
        }
       ],
       "layout": {
        "annotations": [
         {
          "font": {
           "size": 16
          },
          "showarrow": false,
          "text": "Logistic Regression ROC Val",
          "x": 0.0875,
          "xanchor": "center",
          "xref": "paper",
          "y": 0.9999999999999999,
          "yanchor": "bottom",
          "yref": "paper"
         },
         {
          "font": {
           "size": 16
          },
          "showarrow": false,
          "text": "Logistic Regression ROC Test",
          "x": 0.36250000000000004,
          "xanchor": "center",
          "xref": "paper",
          "y": 0.9999999999999999,
          "yanchor": "bottom",
          "yref": "paper"
         },
         {
          "font": {
           "size": 16
          },
          "showarrow": false,
          "text": "Logistic Regression CM Val",
          "x": 0.6375000000000001,
          "xanchor": "center",
          "xref": "paper",
          "y": 0.9999999999999999,
          "yanchor": "bottom",
          "yref": "paper"
         },
         {
          "font": {
           "size": 16
          },
          "showarrow": false,
          "text": "Logistic Regression CM Test",
          "x": 0.9125,
          "xanchor": "center",
          "xref": "paper",
          "y": 0.9999999999999999,
          "yanchor": "bottom",
          "yref": "paper"
         },
         {
          "font": {
           "size": 16
          },
          "showarrow": false,
          "text": "Random Forest ROC Val",
          "x": 0.0875,
          "xanchor": "center",
          "xref": "paper",
          "y": 0.7699999999999999,
          "yanchor": "bottom",
          "yref": "paper"
         },
         {
          "font": {
           "size": 16
          },
          "showarrow": false,
          "text": "Random Forest ROC Test",
          "x": 0.36250000000000004,
          "xanchor": "center",
          "xref": "paper",
          "y": 0.7699999999999999,
          "yanchor": "bottom",
          "yref": "paper"
         },
         {
          "font": {
           "size": 16
          },
          "showarrow": false,
          "text": "Random Forest CM Val",
          "x": 0.6375000000000001,
          "xanchor": "center",
          "xref": "paper",
          "y": 0.7699999999999999,
          "yanchor": "bottom",
          "yref": "paper"
         },
         {
          "font": {
           "size": 16
          },
          "showarrow": false,
          "text": "Random Forest CM Test",
          "x": 0.9125,
          "xanchor": "center",
          "xref": "paper",
          "y": 0.7699999999999999,
          "yanchor": "bottom",
          "yref": "paper"
         },
         {
          "font": {
           "size": 16
          },
          "showarrow": false,
          "text": "LightGBM ROC Val",
          "x": 0.0875,
          "xanchor": "center",
          "xref": "paper",
          "y": 0.5399999999999999,
          "yanchor": "bottom",
          "yref": "paper"
         },
         {
          "font": {
           "size": 16
          },
          "showarrow": false,
          "text": "LightGBM ROC Test",
          "x": 0.36250000000000004,
          "xanchor": "center",
          "xref": "paper",
          "y": 0.5399999999999999,
          "yanchor": "bottom",
          "yref": "paper"
         },
         {
          "font": {
           "size": 16
          },
          "showarrow": false,
          "text": "LightGBM CM Val",
          "x": 0.6375000000000001,
          "xanchor": "center",
          "xref": "paper",
          "y": 0.5399999999999999,
          "yanchor": "bottom",
          "yref": "paper"
         },
         {
          "font": {
           "size": 16
          },
          "showarrow": false,
          "text": "LightGBM CM Test",
          "x": 0.9125,
          "xanchor": "center",
          "xref": "paper",
          "y": 0.5399999999999999,
          "yanchor": "bottom",
          "yref": "paper"
         },
         {
          "font": {
           "size": 16
          },
          "showarrow": false,
          "text": "Decision Tree ROC Val",
          "x": 0.0875,
          "xanchor": "center",
          "xref": "paper",
          "y": 0.31,
          "yanchor": "bottom",
          "yref": "paper"
         },
         {
          "font": {
           "size": 16
          },
          "showarrow": false,
          "text": "Decision Tree ROC Test",
          "x": 0.36250000000000004,
          "xanchor": "center",
          "xref": "paper",
          "y": 0.31,
          "yanchor": "bottom",
          "yref": "paper"
         },
         {
          "font": {
           "size": 16
          },
          "showarrow": false,
          "text": "Decision Tree CM Val",
          "x": 0.6375000000000001,
          "xanchor": "center",
          "xref": "paper",
          "y": 0.31,
          "yanchor": "bottom",
          "yref": "paper"
         },
         {
          "font": {
           "size": 16
          },
          "showarrow": false,
          "text": "Decision Tree CM Test",
          "x": 0.9125,
          "xanchor": "center",
          "xref": "paper",
          "y": 0.31,
          "yanchor": "bottom",
          "yref": "paper"
         },
         {
          "font": {
           "size": 16
          },
          "showarrow": false,
          "text": "SVM ROC Val",
          "x": 0.0875,
          "xanchor": "center",
          "xref": "paper",
          "y": 0.08,
          "yanchor": "bottom",
          "yref": "paper"
         },
         {
          "font": {
           "size": 16
          },
          "showarrow": false,
          "text": "SVM ROC Test",
          "x": 0.36250000000000004,
          "xanchor": "center",
          "xref": "paper",
          "y": 0.08,
          "yanchor": "bottom",
          "yref": "paper"
         },
         {
          "font": {
           "size": 16
          },
          "showarrow": false,
          "text": "SVM CM Val",
          "x": 0.6375000000000001,
          "xanchor": "center",
          "xref": "paper",
          "y": 0.08,
          "yanchor": "bottom",
          "yref": "paper"
         },
         {
          "font": {
           "size": 16
          },
          "showarrow": false,
          "text": "SVM CM Test",
          "x": 0.9125,
          "xanchor": "center",
          "xref": "paper",
          "y": 0.08,
          "yanchor": "bottom",
          "yref": "paper"
         }
        ],
        "height": 1500,
        "template": {
         "data": {
          "bar": [
           {
            "error_x": {
             "color": "#2a3f5f"
            },
            "error_y": {
             "color": "#2a3f5f"
            },
            "marker": {
             "line": {
              "color": "#E5ECF6",
              "width": 0.5
             },
             "pattern": {
              "fillmode": "overlay",
              "size": 10,
              "solidity": 0.2
             }
            },
            "type": "bar"
           }
          ],
          "barpolar": [
           {
            "marker": {
             "line": {
              "color": "#E5ECF6",
              "width": 0.5
             },
             "pattern": {
              "fillmode": "overlay",
              "size": 10,
              "solidity": 0.2
             }
            },
            "type": "barpolar"
           }
          ],
          "carpet": [
           {
            "aaxis": {
             "endlinecolor": "#2a3f5f",
             "gridcolor": "white",
             "linecolor": "white",
             "minorgridcolor": "white",
             "startlinecolor": "#2a3f5f"
            },
            "baxis": {
             "endlinecolor": "#2a3f5f",
             "gridcolor": "white",
             "linecolor": "white",
             "minorgridcolor": "white",
             "startlinecolor": "#2a3f5f"
            },
            "type": "carpet"
           }
          ],
          "choropleth": [
           {
            "colorbar": {
             "outlinewidth": 0,
             "ticks": ""
            },
            "type": "choropleth"
           }
          ],
          "contour": [
           {
            "colorbar": {
             "outlinewidth": 0,
             "ticks": ""
            },
            "colorscale": [
             [
              0,
              "#0d0887"
             ],
             [
              0.1111111111111111,
              "#46039f"
             ],
             [
              0.2222222222222222,
              "#7201a8"
             ],
             [
              0.3333333333333333,
              "#9c179e"
             ],
             [
              0.4444444444444444,
              "#bd3786"
             ],
             [
              0.5555555555555556,
              "#d8576b"
             ],
             [
              0.6666666666666666,
              "#ed7953"
             ],
             [
              0.7777777777777778,
              "#fb9f3a"
             ],
             [
              0.8888888888888888,
              "#fdca26"
             ],
             [
              1,
              "#f0f921"
             ]
            ],
            "type": "contour"
           }
          ],
          "contourcarpet": [
           {
            "colorbar": {
             "outlinewidth": 0,
             "ticks": ""
            },
            "type": "contourcarpet"
           }
          ],
          "heatmap": [
           {
            "colorbar": {
             "outlinewidth": 0,
             "ticks": ""
            },
            "colorscale": [
             [
              0,
              "#0d0887"
             ],
             [
              0.1111111111111111,
              "#46039f"
             ],
             [
              0.2222222222222222,
              "#7201a8"
             ],
             [
              0.3333333333333333,
              "#9c179e"
             ],
             [
              0.4444444444444444,
              "#bd3786"
             ],
             [
              0.5555555555555556,
              "#d8576b"
             ],
             [
              0.6666666666666666,
              "#ed7953"
             ],
             [
              0.7777777777777778,
              "#fb9f3a"
             ],
             [
              0.8888888888888888,
              "#fdca26"
             ],
             [
              1,
              "#f0f921"
             ]
            ],
            "type": "heatmap"
           }
          ],
          "histogram": [
           {
            "marker": {
             "pattern": {
              "fillmode": "overlay",
              "size": 10,
              "solidity": 0.2
             }
            },
            "type": "histogram"
           }
          ],
          "histogram2d": [
           {
            "colorbar": {
             "outlinewidth": 0,
             "ticks": ""
            },
            "colorscale": [
             [
              0,
              "#0d0887"
             ],
             [
              0.1111111111111111,
              "#46039f"
             ],
             [
              0.2222222222222222,
              "#7201a8"
             ],
             [
              0.3333333333333333,
              "#9c179e"
             ],
             [
              0.4444444444444444,
              "#bd3786"
             ],
             [
              0.5555555555555556,
              "#d8576b"
             ],
             [
              0.6666666666666666,
              "#ed7953"
             ],
             [
              0.7777777777777778,
              "#fb9f3a"
             ],
             [
              0.8888888888888888,
              "#fdca26"
             ],
             [
              1,
              "#f0f921"
             ]
            ],
            "type": "histogram2d"
           }
          ],
          "histogram2dcontour": [
           {
            "colorbar": {
             "outlinewidth": 0,
             "ticks": ""
            },
            "colorscale": [
             [
              0,
              "#0d0887"
             ],
             [
              0.1111111111111111,
              "#46039f"
             ],
             [
              0.2222222222222222,
              "#7201a8"
             ],
             [
              0.3333333333333333,
              "#9c179e"
             ],
             [
              0.4444444444444444,
              "#bd3786"
             ],
             [
              0.5555555555555556,
              "#d8576b"
             ],
             [
              0.6666666666666666,
              "#ed7953"
             ],
             [
              0.7777777777777778,
              "#fb9f3a"
             ],
             [
              0.8888888888888888,
              "#fdca26"
             ],
             [
              1,
              "#f0f921"
             ]
            ],
            "type": "histogram2dcontour"
           }
          ],
          "mesh3d": [
           {
            "colorbar": {
             "outlinewidth": 0,
             "ticks": ""
            },
            "type": "mesh3d"
           }
          ],
          "parcoords": [
           {
            "line": {
             "colorbar": {
              "outlinewidth": 0,
              "ticks": ""
             }
            },
            "type": "parcoords"
           }
          ],
          "pie": [
           {
            "automargin": true,
            "type": "pie"
           }
          ],
          "scatter": [
           {
            "fillpattern": {
             "fillmode": "overlay",
             "size": 10,
             "solidity": 0.2
            },
            "type": "scatter"
           }
          ],
          "scatter3d": [
           {
            "line": {
             "colorbar": {
              "outlinewidth": 0,
              "ticks": ""
             }
            },
            "marker": {
             "colorbar": {
              "outlinewidth": 0,
              "ticks": ""
             }
            },
            "type": "scatter3d"
           }
          ],
          "scattercarpet": [
           {
            "marker": {
             "colorbar": {
              "outlinewidth": 0,
              "ticks": ""
             }
            },
            "type": "scattercarpet"
           }
          ],
          "scattergeo": [
           {
            "marker": {
             "colorbar": {
              "outlinewidth": 0,
              "ticks": ""
             }
            },
            "type": "scattergeo"
           }
          ],
          "scattergl": [
           {
            "marker": {
             "colorbar": {
              "outlinewidth": 0,
              "ticks": ""
             }
            },
            "type": "scattergl"
           }
          ],
          "scattermap": [
           {
            "marker": {
             "colorbar": {
              "outlinewidth": 0,
              "ticks": ""
             }
            },
            "type": "scattermap"
           }
          ],
          "scattermapbox": [
           {
            "marker": {
             "colorbar": {
              "outlinewidth": 0,
              "ticks": ""
             }
            },
            "type": "scattermapbox"
           }
          ],
          "scatterpolar": [
           {
            "marker": {
             "colorbar": {
              "outlinewidth": 0,
              "ticks": ""
             }
            },
            "type": "scatterpolar"
           }
          ],
          "scatterpolargl": [
           {
            "marker": {
             "colorbar": {
              "outlinewidth": 0,
              "ticks": ""
             }
            },
            "type": "scatterpolargl"
           }
          ],
          "scatterternary": [
           {
            "marker": {
             "colorbar": {
              "outlinewidth": 0,
              "ticks": ""
             }
            },
            "type": "scatterternary"
           }
          ],
          "surface": [
           {
            "colorbar": {
             "outlinewidth": 0,
             "ticks": ""
            },
            "colorscale": [
             [
              0,
              "#0d0887"
             ],
             [
              0.1111111111111111,
              "#46039f"
             ],
             [
              0.2222222222222222,
              "#7201a8"
             ],
             [
              0.3333333333333333,
              "#9c179e"
             ],
             [
              0.4444444444444444,
              "#bd3786"
             ],
             [
              0.5555555555555556,
              "#d8576b"
             ],
             [
              0.6666666666666666,
              "#ed7953"
             ],
             [
              0.7777777777777778,
              "#fb9f3a"
             ],
             [
              0.8888888888888888,
              "#fdca26"
             ],
             [
              1,
              "#f0f921"
             ]
            ],
            "type": "surface"
           }
          ],
          "table": [
           {
            "cells": {
             "fill": {
              "color": "#EBF0F8"
             },
             "line": {
              "color": "white"
             }
            },
            "header": {
             "fill": {
              "color": "#C8D4E3"
             },
             "line": {
              "color": "white"
             }
            },
            "type": "table"
           }
          ]
         },
         "layout": {
          "annotationdefaults": {
           "arrowcolor": "#2a3f5f",
           "arrowhead": 0,
           "arrowwidth": 1
          },
          "autotypenumbers": "strict",
          "coloraxis": {
           "colorbar": {
            "outlinewidth": 0,
            "ticks": ""
           }
          },
          "colorscale": {
           "diverging": [
            [
             0,
             "#8e0152"
            ],
            [
             0.1,
             "#c51b7d"
            ],
            [
             0.2,
             "#de77ae"
            ],
            [
             0.3,
             "#f1b6da"
            ],
            [
             0.4,
             "#fde0ef"
            ],
            [
             0.5,
             "#f7f7f7"
            ],
            [
             0.6,
             "#e6f5d0"
            ],
            [
             0.7,
             "#b8e186"
            ],
            [
             0.8,
             "#7fbc41"
            ],
            [
             0.9,
             "#4d9221"
            ],
            [
             1,
             "#276419"
            ]
           ],
           "sequential": [
            [
             0,
             "#0d0887"
            ],
            [
             0.1111111111111111,
             "#46039f"
            ],
            [
             0.2222222222222222,
             "#7201a8"
            ],
            [
             0.3333333333333333,
             "#9c179e"
            ],
            [
             0.4444444444444444,
             "#bd3786"
            ],
            [
             0.5555555555555556,
             "#d8576b"
            ],
            [
             0.6666666666666666,
             "#ed7953"
            ],
            [
             0.7777777777777778,
             "#fb9f3a"
            ],
            [
             0.8888888888888888,
             "#fdca26"
            ],
            [
             1,
             "#f0f921"
            ]
           ],
           "sequentialminus": [
            [
             0,
             "#0d0887"
            ],
            [
             0.1111111111111111,
             "#46039f"
            ],
            [
             0.2222222222222222,
             "#7201a8"
            ],
            [
             0.3333333333333333,
             "#9c179e"
            ],
            [
             0.4444444444444444,
             "#bd3786"
            ],
            [
             0.5555555555555556,
             "#d8576b"
            ],
            [
             0.6666666666666666,
             "#ed7953"
            ],
            [
             0.7777777777777778,
             "#fb9f3a"
            ],
            [
             0.8888888888888888,
             "#fdca26"
            ],
            [
             1,
             "#f0f921"
            ]
           ]
          },
          "colorway": [
           "#636efa",
           "#EF553B",
           "#00cc96",
           "#ab63fa",
           "#FFA15A",
           "#19d3f3",
           "#FF6692",
           "#B6E880",
           "#FF97FF",
           "#FECB52"
          ],
          "font": {
           "color": "#2a3f5f"
          },
          "geo": {
           "bgcolor": "white",
           "lakecolor": "white",
           "landcolor": "#E5ECF6",
           "showlakes": true,
           "showland": true,
           "subunitcolor": "white"
          },
          "hoverlabel": {
           "align": "left"
          },
          "hovermode": "closest",
          "mapbox": {
           "style": "light"
          },
          "paper_bgcolor": "white",
          "plot_bgcolor": "#E5ECF6",
          "polar": {
           "angularaxis": {
            "gridcolor": "white",
            "linecolor": "white",
            "ticks": ""
           },
           "bgcolor": "#E5ECF6",
           "radialaxis": {
            "gridcolor": "white",
            "linecolor": "white",
            "ticks": ""
           }
          },
          "scene": {
           "xaxis": {
            "backgroundcolor": "#E5ECF6",
            "gridcolor": "white",
            "gridwidth": 2,
            "linecolor": "white",
            "showbackground": true,
            "ticks": "",
            "zerolinecolor": "white"
           },
           "yaxis": {
            "backgroundcolor": "#E5ECF6",
            "gridcolor": "white",
            "gridwidth": 2,
            "linecolor": "white",
            "showbackground": true,
            "ticks": "",
            "zerolinecolor": "white"
           },
           "zaxis": {
            "backgroundcolor": "#E5ECF6",
            "gridcolor": "white",
            "gridwidth": 2,
            "linecolor": "white",
            "showbackground": true,
            "ticks": "",
            "zerolinecolor": "white"
           }
          },
          "shapedefaults": {
           "line": {
            "color": "#2a3f5f"
           }
          },
          "ternary": {
           "aaxis": {
            "gridcolor": "white",
            "linecolor": "white",
            "ticks": ""
           },
           "baxis": {
            "gridcolor": "white",
            "linecolor": "white",
            "ticks": ""
           },
           "bgcolor": "#E5ECF6",
           "caxis": {
            "gridcolor": "white",
            "linecolor": "white",
            "ticks": ""
           }
          },
          "title": {
           "x": 0.05
          },
          "xaxis": {
           "automargin": true,
           "gridcolor": "white",
           "linecolor": "white",
           "ticks": "",
           "title": {
            "standoff": 15
           },
           "zerolinecolor": "white",
           "zerolinewidth": 2
          },
          "yaxis": {
           "automargin": true,
           "gridcolor": "white",
           "linecolor": "white",
           "ticks": "",
           "title": {
            "standoff": 15
           },
           "zerolinecolor": "white",
           "zerolinewidth": 2
          }
         }
        },
        "title": {
         "text": "Comparación de Modelos: ROC y Matriz de Confusión"
        },
        "width": 1400,
        "xaxis": {
         "anchor": "y",
         "domain": [
          0,
          0.175
         ],
         "title": {
          "text": "FPR"
         }
        },
        "xaxis10": {
         "anchor": "y10",
         "domain": [
          0.275,
          0.45
         ],
         "title": {
          "text": "FPR"
         }
        },
        "xaxis11": {
         "anchor": "y11",
         "domain": [
          0.55,
          0.7250000000000001
         ]
        },
        "xaxis12": {
         "anchor": "y12",
         "domain": [
          0.825,
          1
         ]
        },
        "xaxis13": {
         "anchor": "y13",
         "domain": [
          0,
          0.175
         ],
         "title": {
          "text": "FPR"
         }
        },
        "xaxis14": {
         "anchor": "y14",
         "domain": [
          0.275,
          0.45
         ],
         "title": {
          "text": "FPR"
         }
        },
        "xaxis15": {
         "anchor": "y15",
         "domain": [
          0.55,
          0.7250000000000001
         ]
        },
        "xaxis16": {
         "anchor": "y16",
         "domain": [
          0.825,
          1
         ]
        },
        "xaxis17": {
         "anchor": "y17",
         "domain": [
          0,
          0.175
         ],
         "title": {
          "text": "FPR"
         }
        },
        "xaxis18": {
         "anchor": "y18",
         "domain": [
          0.275,
          0.45
         ],
         "title": {
          "text": "FPR"
         }
        },
        "xaxis19": {
         "anchor": "y19",
         "domain": [
          0.55,
          0.7250000000000001
         ]
        },
        "xaxis2": {
         "anchor": "y2",
         "domain": [
          0.275,
          0.45
         ],
         "title": {
          "text": "FPR"
         }
        },
        "xaxis20": {
         "anchor": "y20",
         "domain": [
          0.825,
          1
         ]
        },
        "xaxis3": {
         "anchor": "y3",
         "domain": [
          0.55,
          0.7250000000000001
         ]
        },
        "xaxis4": {
         "anchor": "y4",
         "domain": [
          0.825,
          1
         ]
        },
        "xaxis5": {
         "anchor": "y5",
         "domain": [
          0,
          0.175
         ],
         "title": {
          "text": "FPR"
         }
        },
        "xaxis6": {
         "anchor": "y6",
         "domain": [
          0.275,
          0.45
         ],
         "title": {
          "text": "FPR"
         }
        },
        "xaxis7": {
         "anchor": "y7",
         "domain": [
          0.55,
          0.7250000000000001
         ]
        },
        "xaxis8": {
         "anchor": "y8",
         "domain": [
          0.825,
          1
         ]
        },
        "xaxis9": {
         "anchor": "y9",
         "domain": [
          0,
          0.175
         ],
         "title": {
          "text": "FPR"
         }
        },
        "yaxis": {
         "anchor": "x",
         "domain": [
          0.9199999999999999,
          0.9999999999999999
         ],
         "title": {
          "text": "TPR"
         }
        },
        "yaxis10": {
         "anchor": "x10",
         "domain": [
          0.45999999999999996,
          0.5399999999999999
         ],
         "title": {
          "text": "TPR"
         }
        },
        "yaxis11": {
         "anchor": "x11",
         "domain": [
          0.45999999999999996,
          0.5399999999999999
         ]
        },
        "yaxis12": {
         "anchor": "x12",
         "domain": [
          0.45999999999999996,
          0.5399999999999999
         ]
        },
        "yaxis13": {
         "anchor": "x13",
         "domain": [
          0.22999999999999998,
          0.31
         ],
         "title": {
          "text": "TPR"
         }
        },
        "yaxis14": {
         "anchor": "x14",
         "domain": [
          0.22999999999999998,
          0.31
         ],
         "title": {
          "text": "TPR"
         }
        },
        "yaxis15": {
         "anchor": "x15",
         "domain": [
          0.22999999999999998,
          0.31
         ]
        },
        "yaxis16": {
         "anchor": "x16",
         "domain": [
          0.22999999999999998,
          0.31
         ]
        },
        "yaxis17": {
         "anchor": "x17",
         "domain": [
          0,
          0.08
         ],
         "title": {
          "text": "TPR"
         }
        },
        "yaxis18": {
         "anchor": "x18",
         "domain": [
          0,
          0.08
         ],
         "title": {
          "text": "TPR"
         }
        },
        "yaxis19": {
         "anchor": "x19",
         "domain": [
          0,
          0.08
         ]
        },
        "yaxis2": {
         "anchor": "x2",
         "domain": [
          0.9199999999999999,
          0.9999999999999999
         ],
         "title": {
          "text": "TPR"
         }
        },
        "yaxis20": {
         "anchor": "x20",
         "domain": [
          0,
          0.08
         ]
        },
        "yaxis3": {
         "anchor": "x3",
         "domain": [
          0.9199999999999999,
          0.9999999999999999
         ]
        },
        "yaxis4": {
         "anchor": "x4",
         "domain": [
          0.9199999999999999,
          0.9999999999999999
         ]
        },
        "yaxis5": {
         "anchor": "x5",
         "domain": [
          0.69,
          0.7699999999999999
         ],
         "title": {
          "text": "TPR"
         }
        },
        "yaxis6": {
         "anchor": "x6",
         "domain": [
          0.69,
          0.7699999999999999
         ],
         "title": {
          "text": "TPR"
         }
        },
        "yaxis7": {
         "anchor": "x7",
         "domain": [
          0.69,
          0.7699999999999999
         ]
        },
        "yaxis8": {
         "anchor": "x8",
         "domain": [
          0.69,
          0.7699999999999999
         ]
        },
        "yaxis9": {
         "anchor": "x9",
         "domain": [
          0.45999999999999996,
          0.5399999999999999
         ],
         "title": {
          "text": "TPR"
         }
        }
       }
      }
     },
     "metadata": {},
     "output_type": "display_data"
    }
   ],
   "source": [
    "plot_model_comparison(\n",
    "    models_pipes,\n",
    "    X_val, y_val,\n",
    "    X_test, y_test\n",
    "    )\n"
   ]
  },
  {
   "cell_type": "markdown",
   "id": "625ce6af",
   "metadata": {},
   "source": [
    "## Guardado de Modelos entrenados"
   ]
  },
  {
   "cell_type": "code",
   "execution_count": 20,
   "id": "0cc98c36",
   "metadata": {},
   "outputs": [],
   "source": [
    "import joblib\n",
    "import os\n",
    "from sklearn.metrics import accuracy_score, f1_score, precision_score, recall_score\n",
    "\n",
    "def save_model_with_score(model, model_name, X_test, y_test, folder=\"../models\"):\n",
    "    \"\"\"\n",
    "    Parámetros:\n",
    "    -----------\n",
    "    model : estimator\n",
    "        Modelo ya entrenado (fit).\n",
    "    X_test : DataFrame o array\n",
    "        Datos de test para evaluar.\n",
    "    y_test : Series o array\n",
    "        Etiquetas verdaderas.\n",
    "    filename : str\n",
    "        Nombre del archivo .pkl donde se guardará el modelo.\n",
    "    metrics : list\n",
    "        Lista de métricas a calcular, ej: [\"accuracy\", \"f1\", \"precision\", \"recall\"].\n",
    "    folder : str\n",
    "        Carpeta donde se guardará el modelo.\n",
    "    \"\"\"\n",
    "\n",
    "    # Crear carpeta si no existe\n",
    "    os.makedirs(folder, exist_ok=True)\n",
    "\n",
    "    # Predecir\n",
    "    y_pred = model.predict(X_test)\n",
    "\n",
    "    \n",
    "    # Calcular métricas\n",
    "    scores = eval_model(model, X_test, y_test)\n",
    "    \n",
    "    # Extraer nombres de columnas si es DataFrame\n",
    "    if hasattr(X_test, \"columns\"):\n",
    "        feature_names = list(X_test.columns)\n",
    "    else:\n",
    "        feature_names = [f\"feature_{i}\" for i in range(X_test.shape[1])]\n",
    "\n",
    "\n",
    "    # Guardar con joblib\n",
    "    _name = model_name.split(\" \")\n",
    "    _name = \"_\".join(_name).lower() + \".pkl\"\n",
    "\n",
    "    # Empaquetar modelo + scores + columnas\n",
    "    obj_to_save = {\n",
    "        \"name\": model_name,\n",
    "        \"model\": model,\n",
    "        \"scores\": scores,\n",
    "        \"features\": feature_names\n",
    "    }\n",
    "    \n",
    "    filepath = os.path.join(folder, _name)\n",
    "    joblib.dump(obj_to_save, filepath)\n",
    "\n",
    "    print(f\"Modelo guardado en {filepath} con scores: {scores}\")\n",
    "    print(f\"Columnas guardadas: {feature_names}\")\n",
    "    return scores\n"
   ]
  },
  {
   "cell_type": "code",
   "execution_count": 21,
   "id": "c5aae677",
   "metadata": {},
   "outputs": [
    {
     "name": "stdout",
     "output_type": "stream",
     "text": [
      "Guardando el modelo: Logistic Regression\n",
      "Modelo guardado en ../models/logistic_regression.pkl con scores: {'accuracy': 0.7492904446546831, 'precision': 0.5174013921113689, 'recall': 0.7964285714285714, 'f1': 0.6272855133614628, 'roc_auc': 0.8506595881595882, 'pr_auc': 0.6456636547772612}\n",
      "Columnas guardadas: ['gender', 'SeniorCitizen', 'Partner', 'Dependents', 'tenure', 'PhoneService', 'MultipleLines', 'InternetService', 'OnlineSecurity', 'OnlineBackup', 'DeviceProtection', 'TechSupport', 'StreamingTV', 'StreamingMovies', 'Contract', 'PaperlessBilling', 'PaymentMethod', 'MonthlyCharges', 'TotalCharges', 'customer_segment', 'price_segment', 'additional_services']\n",
      "Guardando el modelo: Random Forest\n",
      "Modelo guardado en ../models/random_forest.pkl con scores: {'accuracy': 0.7805108798486282, 'precision': 0.5774193548387097, 'recall': 0.6392857142857142, 'f1': 0.6067796610169491, 'roc_auc': 0.8493358154072441, 'pr_auc': 0.6552062464015509}\n",
      "Columnas guardadas: ['gender', 'SeniorCitizen', 'Partner', 'Dependents', 'tenure', 'PhoneService', 'MultipleLines', 'InternetService', 'OnlineSecurity', 'OnlineBackup', 'DeviceProtection', 'TechSupport', 'StreamingTV', 'StreamingMovies', 'Contract', 'PaperlessBilling', 'PaymentMethod', 'MonthlyCharges', 'TotalCharges', 'customer_segment', 'price_segment', 'additional_services']\n",
      "Guardando el modelo: LightGBM\n",
      "Modelo guardado en ../models/lightgbm.pkl con scores: {'accuracy': 0.7909176915799432, 'precision': 0.616600790513834, 'recall': 0.5571428571428572, 'f1': 0.5853658536585366, 'roc_auc': 0.8399430042287186, 'pr_auc': 0.6380348994453044}\n",
      "Columnas guardadas: ['gender', 'SeniorCitizen', 'Partner', 'Dependents', 'tenure', 'PhoneService', 'MultipleLines', 'InternetService', 'OnlineSecurity', 'OnlineBackup', 'DeviceProtection', 'TechSupport', 'StreamingTV', 'StreamingMovies', 'Contract', 'PaperlessBilling', 'PaymentMethod', 'MonthlyCharges', 'TotalCharges', 'customer_segment', 'price_segment', 'additional_services']\n",
      "Guardando el modelo: Decision Tree\n",
      "Modelo guardado en ../models/decision_tree.pkl con scores: {'accuracy': 0.760643330179754, 'precision': 0.5391304347826087, 'recall': 0.6642857142857143, 'f1': 0.5952, 'roc_auc': 0.801893730465159, 'pr_auc': 0.520358049237369}\n",
      "Columnas guardadas: ['gender', 'SeniorCitizen', 'Partner', 'Dependents', 'tenure', 'PhoneService', 'MultipleLines', 'InternetService', 'OnlineSecurity', 'OnlineBackup', 'DeviceProtection', 'TechSupport', 'StreamingTV', 'StreamingMovies', 'Contract', 'PaperlessBilling', 'PaymentMethod', 'MonthlyCharges', 'TotalCharges', 'customer_segment', 'price_segment', 'additional_services']\n",
      "Guardando el modelo: SVM\n",
      "Modelo guardado en ../models/svm.pkl con scores: {'accuracy': 0.695364238410596, 'precision': 0.4461538461538462, 'recall': 0.6214285714285714, 'f1': 0.5194029850746269, 'roc_auc': 0.7576277808420666, 'pr_auc': 0.5890739873472287}\n",
      "Columnas guardadas: ['gender', 'SeniorCitizen', 'Partner', 'Dependents', 'tenure', 'PhoneService', 'MultipleLines', 'InternetService', 'OnlineSecurity', 'OnlineBackup', 'DeviceProtection', 'TechSupport', 'StreamingTV', 'StreamingMovies', 'Contract', 'PaperlessBilling', 'PaymentMethod', 'MonthlyCharges', 'TotalCharges', 'customer_segment', 'price_segment', 'additional_services']\n"
     ]
    }
   ],
   "source": [
    "for name,model in models_pipes.items():\n",
    "    print(f\"Guardando el modelo: {name}\")\n",
    "    save_model_with_score(model,name,X_test,y_test)\n"
   ]
  }
 ],
 "metadata": {
  "kernelspec": {
   "display_name": ".venv (3.12.3)",
   "language": "python",
   "name": "python3"
  },
  "language_info": {
   "codemirror_mode": {
    "name": "ipython",
    "version": 3
   },
   "file_extension": ".py",
   "mimetype": "text/x-python",
   "name": "python",
   "nbconvert_exporter": "python",
   "pygments_lexer": "ipython3",
   "version": "3.12.3"
  }
 },
 "nbformat": 4,
 "nbformat_minor": 5
}
